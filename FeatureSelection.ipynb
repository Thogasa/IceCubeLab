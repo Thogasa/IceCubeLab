{
 "cells": [
  {
   "cell_type": "code",
   "execution_count": 88,
   "id": "9609cc14-dd91-4675-b550-f5d108ae586a",
   "metadata": {},
   "outputs": [],
   "source": [
    "import pandas as pd\n",
    "import numpy as np\n",
    "from mrmr import mrmr_classif"
   ]
  },
  {
   "cell_type": "code",
   "execution_count": 89,
   "id": "7c00c836-0a55-4986-8ddc-4d55fa886c82",
   "metadata": {},
   "outputs": [
    {
     "data": {
      "text/plain": [
       "(Index(['CorsikaWeightMap.AreaSum', 'CorsikaWeightMap.Atmosphere',\n",
       "        'CorsikaWeightMap.CylinderLength', 'CorsikaWeightMap.CylinderRadius',\n",
       "        'CorsikaWeightMap.DiplopiaWeight', 'CorsikaWeightMap.EnergyPrimaryMax',\n",
       "        'CorsikaWeightMap.EnergyPrimaryMin', 'CorsikaWeightMap.FluxSum',\n",
       "        'CorsikaWeightMap.Multiplicity', 'CorsikaWeightMap.SpectralIndexChange',\n",
       "        ...\n",
       "        'NewAtt.DirectEllipse', 'NewAtt.DeltaZd', 'NewAtt.AbsSmooth',\n",
       "        'NewAtt.emptyness', 'NewAtt.SepDevide', 'NewAtt.SPEBayVerRadius',\n",
       "        'NewAtt.SplineVerRadius', 'CorsikaWeightMap.ParticleType',\n",
       "        'CorsikaWeightMap.Polygonato', 'CorsikaWeightMap.PrimarySpectralIndex'],\n",
       "       dtype='object', length=283),\n",
       " Index(['CorsikaWeightMap.AreaSum', 'CorsikaWeightMap.Atmosphere',\n",
       "        'CorsikaWeightMap.CylinderLength', 'CorsikaWeightMap.CylinderRadius',\n",
       "        'CorsikaWeightMap.DiplopiaWeight', 'CorsikaWeightMap.EnergyPrimaryMax',\n",
       "        'CorsikaWeightMap.EnergyPrimaryMin', 'CorsikaWeightMap.FluxSum',\n",
       "        'CorsikaWeightMap.Multiplicity', 'CorsikaWeightMap.SpectralIndexChange',\n",
       "        ...\n",
       "        'NewAtt.DirectEllipse', 'NewAtt.DeltaZd', 'NewAtt.AbsSmooth',\n",
       "        'NewAtt.emptyness', 'NewAtt.SepDevide', 'NewAtt.SPEBayVerRadius',\n",
       "        'NewAtt.SplineVerRadius', 'CorsikaWeightMap.ParticleType',\n",
       "        'CorsikaWeightMap.Polygonato', 'CorsikaWeightMap.PrimarySpectralIndex'],\n",
       "       dtype='object', length=283))"
      ]
     },
     "execution_count": 89,
     "metadata": {},
     "output_type": "execute_result"
    }
   ],
   "source": [
    "bkg = pd.read_csv('background_train.csv')\n",
    "sig = pd.read_csv('signal_train.csv')\n",
    "\n",
    "#remove labels exclusive to one dataset\n",
    "colsToRemove = set(np.concatenate([list(set(sig.columns)-set(bkg.columns)), list(set(bkg.columns)-set(sig.columns))]))\n",
    "\n",
    "\n",
    "bkg.drop(columns=colsToRemove, inplace = True)\n",
    "sig.drop(columns=colsToRemove, inplace = True)\n",
    "\n",
    "bkg.columns, sig.columns"
   ]
  },
  {
   "cell_type": "code",
   "execution_count": 90,
   "id": "2858b136-b809-4907-8fe1-43bab6d8b999",
   "metadata": {},
   "outputs": [],
   "source": [
    "#remove non value rows\n",
    "bkg.replace([np.inf, -np.inf], np.nan, inplace=True)\n",
    "sig.replace([np.inf, -np.inf], np.nan, inplace=True)"
   ]
  },
  {
   "cell_type": "code",
   "execution_count": 91,
   "id": "184b3832-f9bb-40be-b8e5-6379c03998c7",
   "metadata": {},
   "outputs": [],
   "source": [
    "#Columns with above 10% nan/inf get dropped all other nan/inf rows are dropped\n",
    "for col in bkg.columns:\n",
    "    bkgNaRatio = np.sum(bkg[col].isna())/len(bkg)\n",
    "    sigNaRatio = np.sum(sig[col].isna())/len(sig)\n",
    "    maxNaRatio = max(bkgNaRatio, sigNaRatio)\n",
    "    if maxNaRatio > .1:\n",
    "        bkg.drop(columns = col, inplace = True)\n",
    "        sig.drop(columns = col, inplace = True)\n",
    "bkg.dropna(inplace = True)\n",
    "sig.dropna(inplace = True)"
   ]
  },
  {
   "cell_type": "code",
   "execution_count": 92,
   "id": "40d15e07-2267-49de-b84f-d7826a94fbdb",
   "metadata": {},
   "outputs": [],
   "source": [
    "#Remove MC truths\n",
    "truthList = ['MC', 'Weight', 'Corsika', 'I3EventHeader']\n",
    "for col in bkg.columns:\n",
    "    if any(sg in col for sg in truthList):\n",
    "        bkg.drop(columns = col, inplace = True)\n",
    "        sig.drop(columns = col, inplace = True)"
   ]
  },
  {
   "cell_type": "code",
   "execution_count": 97,
   "id": "d87d4c76-ec68-468a-a78d-6ccd468a8e65",
   "metadata": {},
   "outputs": [
    {
     "data": {
      "text/plain": [
       "0        0\n",
       "1        0\n",
       "2        0\n",
       "3        0\n",
       "4        0\n",
       "        ..\n",
       "17928    1\n",
       "17929    1\n",
       "17930    1\n",
       "17931    1\n",
       "17932    1\n",
       "Name: label, Length: 35652, dtype: int64"
      ]
     },
     "execution_count": 97,
     "metadata": {},
     "output_type": "execute_result"
    }
   ],
   "source": [
    "#Combine Datasets\n",
    "bkg['label'] = 0\n",
    "sig['label'] = 1\n",
    "df = pd.concat([bkg,sig])\n",
    "\n",
    "df['label']"
   ]
  },
  {
   "cell_type": "code",
   "execution_count": 99,
   "id": "f8bc6b1b-34be-4d0d-8ee1-c46e854d91d7",
   "metadata": {},
   "outputs": [
    {
     "name": "stderr",
     "output_type": "stream",
     "text": [
      "100%|███████████████████████████████████████████| 33/33 [00:02<00:00, 12.15it/s]\n"
     ]
    }
   ],
   "source": [
    "#Feature Selection arbitrarlily choose k=33\n",
    "selected_features = mrmr_classif(X=df.drop(columns=['label']), y=df['label'], K=33)"
   ]
  },
  {
   "cell_type": "code",
   "execution_count": 102,
   "id": "aa313bf1-ed87-4518-a820-030ab740a125",
   "metadata": {},
   "outputs": [
    {
     "data": {
      "text/plain": [
       "array(['LineFit_TTParams.lf_vel_z', 'HitStatisticsValues.max_pulse_time',\n",
       "       'SplineMPEFitParams.rlogl', 'HitStatisticsValues.z_travel',\n",
       "       'SplineMPEDirectHitsA.n_dir_strings', 'LineFit_TT.zenith',\n",
       "       'NewAtt.DeltaZd', 'MuEXAngular4.zenith', 'NewAtt.SplineVerRadius',\n",
       "       'SplineMPEDirectHitsA.n_dir_doms', 'MPEFitHighNoise.zenith',\n",
       "       'MuEXAngular4_Sigma.value', 'SPEFit2_TT.zenith',\n",
       "       'MPEFit_TTFitParams.rlogl', 'SplineMPE.zenith',\n",
       "       'SplineMPEDirectHitsC.dir_track_length',\n",
       "       'SplineMPEMuEXDifferential.zenith',\n",
       "       'SplineMPETruncatedEnergy_SPICEMie_AllBINS_Muon.zenith',\n",
       "       'NewAtt.radius', 'SplineMPECharacteristics.avg_dom_dist_q_tot_dom',\n",
       "       'SplineMPETruncatedEnergy_SPICEMie_AllDOMS_Muon.zenith',\n",
       "       'MPEFitHighNoiseFitParams.rlogl', 'MPEFit_TT.zenith',\n",
       "       'MPEFitParaboloid.zenith',\n",
       "       'SplineMPETruncatedEnergy_SPICEMie_AllBINS_MuEres.value',\n",
       "       'MPEFitParaboloidFitParams.zenith',\n",
       "       'SplineMPETruncatedEnergy_SPICEMie_AllDOMS_MuEres.value',\n",
       "       'SPEFit2Bayesian.z',\n",
       "       'SplineMPECharacteristics.track_hits_separation_length',\n",
       "       'SplineMPEDirectHitsC.n_dir_doms', 'LineFit_TTParams.lf_vel',\n",
       "       'HitStatisticsValues.z_min', 'MPEFitParaboloidFitParams.err1',\n",
       "       'label'], dtype='<U54')"
      ]
     },
     "execution_count": 102,
     "metadata": {},
     "output_type": "execute_result"
    }
   ],
   "source": [
    "#export trainging Dataset\n",
    "export_features = np.append(selected_features, 'label')\n",
    "export_features"
   ]
  },
  {
   "cell_type": "code",
   "execution_count": 107,
   "id": "839b5d03-16a4-4539-841d-58401bf6b811",
   "metadata": {},
   "outputs": [],
   "source": [
    "df.to_csv('build/training_data.csv', columns = export_features)"
   ]
  },
  {
   "cell_type": "code",
   "execution_count": null,
   "id": "7bdda627-be1b-4c53-aa16-ed2684cb56f7",
   "metadata": {},
   "outputs": [],
   "source": []
  }
 ],
 "metadata": {
  "kernelspec": {
   "display_name": "icecube",
   "language": "python",
   "name": "icecube"
  },
  "language_info": {
   "codemirror_mode": {
    "name": "ipython",
    "version": 3
   },
   "file_extension": ".py",
   "mimetype": "text/x-python",
   "name": "python",
   "nbconvert_exporter": "python",
   "pygments_lexer": "ipython3",
   "version": "3.12.3"
  }
 },
 "nbformat": 4,
 "nbformat_minor": 5
}
