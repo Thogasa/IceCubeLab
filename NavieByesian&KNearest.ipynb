{
 "cells": [
  {
   "cell_type": "code",
   "execution_count": 4,
   "id": "9e6abd07-0e82-4d86-84cf-1b368b678cf5",
   "metadata": {},
   "outputs": [
    {
     "data": {
      "text/plain": [
       "(Index(['CorsikaWeightMap.AreaSum', 'CorsikaWeightMap.Atmosphere',\n",
       "        'CorsikaWeightMap.CylinderLength', 'CorsikaWeightMap.CylinderRadius',\n",
       "        'CorsikaWeightMap.DiplopiaWeight', 'CorsikaWeightMap.EnergyPrimaryMax',\n",
       "        'CorsikaWeightMap.EnergyPrimaryMin', 'CorsikaWeightMap.FluxSum',\n",
       "        'CorsikaWeightMap.Multiplicity', 'CorsikaWeightMap.SpectralIndexChange',\n",
       "        ...\n",
       "        'NewAtt.DirectEllipse', 'NewAtt.DeltaZd', 'NewAtt.AbsSmooth',\n",
       "        'NewAtt.emptyness', 'NewAtt.SepDevide', 'NewAtt.SPEBayVerRadius',\n",
       "        'NewAtt.SplineVerRadius', 'CorsikaWeightMap.ParticleType',\n",
       "        'CorsikaWeightMap.Polygonato', 'CorsikaWeightMap.PrimarySpectralIndex'],\n",
       "       dtype='object', length=283),\n",
       " Index(['CorsikaWeightMap.AreaSum', 'CorsikaWeightMap.Atmosphere',\n",
       "        'CorsikaWeightMap.CylinderLength', 'CorsikaWeightMap.CylinderRadius',\n",
       "        'CorsikaWeightMap.DiplopiaWeight', 'CorsikaWeightMap.EnergyPrimaryMax',\n",
       "        'CorsikaWeightMap.EnergyPrimaryMin', 'CorsikaWeightMap.FluxSum',\n",
       "        'CorsikaWeightMap.Multiplicity', 'CorsikaWeightMap.SpectralIndexChange',\n",
       "        ...\n",
       "        'NewAtt.DirectEllipse', 'NewAtt.DeltaZd', 'NewAtt.AbsSmooth',\n",
       "        'NewAtt.emptyness', 'NewAtt.SepDevide', 'NewAtt.SPEBayVerRadius',\n",
       "        'NewAtt.SplineVerRadius', 'CorsikaWeightMap.ParticleType',\n",
       "        'CorsikaWeightMap.Polygonato', 'CorsikaWeightMap.PrimarySpectralIndex'],\n",
       "       dtype='object', length=283))"
      ]
     },
     "execution_count": 4,
     "metadata": {},
     "output_type": "execute_result"
    }
   ],
   "source": [
    "import pandas as pd\n",
    "import numpy as np\n",
    "from mrmr import mrmr_classif\n",
    "bkg = pd.read_csv(r\"C:\\Users\\ahnec\\Downloads\\background_train.csv\")\n",
    "sig = pd.read_csv(r\"C:\\Users\\ahnec\\Downloads\\signal_train.csv\")\n",
    "\n",
    "#remove labels exclusive to one dataset\n",
    "colsToRemove = set(np.concatenate([list(set(sig.columns)-set(bkg.columns)), list(set(bkg.columns)-set(sig.columns))]))\n",
    "\n",
    "\n",
    "bkg.drop(columns=colsToRemove, inplace = True)\n",
    "sig.drop(columns=colsToRemove, inplace = True)\n",
    "\n",
    "bkg.columns, sig.columns"
   ]
  },
  {
   "cell_type": "code",
   "execution_count": 5,
   "id": "fc2224f5-a498-4412-b3c1-7f2c95bc41d6",
   "metadata": {},
   "outputs": [
    {
     "data": {
      "text/plain": [
       "0        0\n",
       "1        0\n",
       "2        0\n",
       "3        0\n",
       "4        0\n",
       "        ..\n",
       "17928    1\n",
       "17929    1\n",
       "17930    1\n",
       "17931    1\n",
       "17932    1\n",
       "Name: label, Length: 35652, dtype: int64"
      ]
     },
     "execution_count": 5,
     "metadata": {},
     "output_type": "execute_result"
    }
   ],
   "source": [
    "#remove non value rows\n",
    "bkg.replace([np.inf, -np.inf], np.nan, inplace=True)\n",
    "sig.replace([np.inf, -np.inf], np.nan, inplace=True)\n",
    "#Columns with above 10% nan/inf get dropped all other nan/inf rows are dropped\n",
    "for col in bkg.columns:\n",
    "    bkgNaRatio = np.sum(bkg[col].isna())/len(bkg)\n",
    "    sigNaRatio = np.sum(sig[col].isna())/len(sig)\n",
    "    maxNaRatio = max(bkgNaRatio, sigNaRatio)\n",
    "    if maxNaRatio > .1:\n",
    "        bkg.drop(columns = col, inplace = True)\n",
    "        sig.drop(columns = col, inplace = True)\n",
    "bkg.dropna(inplace = True)\n",
    "sig.dropna(inplace = True)\n",
    "#Remove MC truths\n",
    "truthList = ['MC', 'Weight', 'Corsika', 'I3EventHeader']\n",
    "for col in bkg.columns:\n",
    "    if any(sg in col for sg in truthList):\n",
    "        bkg.drop(columns = col, inplace = True)\n",
    "        sig.drop(columns = col, inplace = True)\n",
    "#Combine Datasets\n",
    "bkg['label'] = 0\n",
    "sig['label'] = 1\n",
    "df = pd.concat([bkg,sig])\n",
    "\n",
    "df['label']"
   ]
  },
  {
   "cell_type": "code",
   "execution_count": 6,
   "id": "579fc1b7-bbb7-4972-83cd-3998d74371df",
   "metadata": {},
   "outputs": [
    {
     "name": "stderr",
     "output_type": "stream",
     "text": [
      "100%|██████████| 33/33 [00:16<00:00,  2.00it/s]\n"
     ]
    }
   ],
   "source": [
    "#Feature Selection arbitrarlily choose k=33\n",
    "selected_features = mrmr_classif(X=df.drop(columns=['label']), y=df['label'], K=33)"
   ]
  },
  {
   "cell_type": "code",
   "execution_count": 7,
   "id": "e7a1cad0-3d65-487b-b032-2bdade2fa7b2",
   "metadata": {},
   "outputs": [
    {
     "data": {
      "text/plain": [
       "array(['LineFit_TTParams.lf_vel_z', 'HitStatisticsValues.max_pulse_time',\n",
       "       'SplineMPEFitParams.rlogl', 'HitStatisticsValues.z_travel',\n",
       "       'SplineMPEDirectHitsA.n_dir_strings', 'LineFit_TT.zenith',\n",
       "       'NewAtt.DeltaZd', 'MuEXAngular4.zenith', 'NewAtt.SplineVerRadius',\n",
       "       'SplineMPEDirectHitsA.n_dir_doms', 'MPEFitHighNoise.zenith',\n",
       "       'MuEXAngular4_Sigma.value', 'SPEFit2_TT.zenith',\n",
       "       'MPEFit_TTFitParams.rlogl', 'SplineMPE.zenith',\n",
       "       'SplineMPEDirectHitsC.dir_track_length',\n",
       "       'SplineMPEMuEXDifferential.zenith',\n",
       "       'SplineMPETruncatedEnergy_SPICEMie_AllBINS_Muon.zenith',\n",
       "       'NewAtt.radius', 'SplineMPECharacteristics.avg_dom_dist_q_tot_dom',\n",
       "       'SplineMPETruncatedEnergy_SPICEMie_AllDOMS_Muon.zenith',\n",
       "       'MPEFitHighNoiseFitParams.rlogl', 'MPEFit_TT.zenith',\n",
       "       'MPEFitParaboloid.zenith',\n",
       "       'SplineMPETruncatedEnergy_SPICEMie_AllBINS_MuEres.value',\n",
       "       'MPEFitParaboloidFitParams.zenith',\n",
       "       'SplineMPETruncatedEnergy_SPICEMie_AllDOMS_MuEres.value',\n",
       "       'SPEFit2Bayesian.z',\n",
       "       'SplineMPECharacteristics.track_hits_separation_length',\n",
       "       'SplineMPEDirectHitsC.n_dir_doms', 'LineFit_TTParams.lf_vel',\n",
       "       'HitStatisticsValues.z_min', 'MPEFitParaboloidFitParams.err1',\n",
       "       'label'], dtype='<U54')"
      ]
     },
     "execution_count": 7,
     "metadata": {},
     "output_type": "execute_result"
    }
   ],
   "source": [
    "#export trainging Dataset\n",
    "export_features = np.append(selected_features, 'label')\n",
    "export_features"
   ]
  },
  {
   "cell_type": "code",
   "execution_count": 8,
   "id": "0dcd5f68-29d6-4766-a487-cc79236c7e03",
   "metadata": {},
   "outputs": [],
   "source": [
    "import os\n",
    "\n",
    "# Define the directory and file path\n",
    "directory = 'build'\n",
    "file_name = 'final_predictions.csv'\n",
    "full_path = os.path.join(directory, file_name)\n",
    "\n",
    "# Check if the directory exists, and if not, create it\n",
    "if not os.path.exists(directory):\n",
    "    os.makedirs(directory)\n",
    "\n",
    "df.to_csv('build/training_data.csv', columns = export_features)"
   ]
  },
  {
   "cell_type": "code",
   "execution_count": 9,
   "id": "f3881d67-33fb-41fd-9023-a7cc78f2d48a",
   "metadata": {},
   "outputs": [],
   "source": [
    "import numpy as np\n",
    "import pandas as pd\n",
    "import matplotlib.pyplot as plt\n",
    "import sklearn as sk\n",
    "from sklearn.model_selection import StratifiedKFold\n",
    "from sklearn.model_selection import train_test_split\n",
    "from tqdm import tqdm\n",
    "from sklearn import metrics\n",
    "import xgboost as xgb"
   ]
  },
  {
   "cell_type": "code",
   "execution_count": 10,
   "id": "3ce36a65-270a-42dd-8375-d94869b8d890",
   "metadata": {},
   "outputs": [
    {
     "data": {
      "text/html": [
       "<div>\n",
       "<style scoped>\n",
       "    .dataframe tbody tr th:only-of-type {\n",
       "        vertical-align: middle;\n",
       "    }\n",
       "\n",
       "    .dataframe tbody tr th {\n",
       "        vertical-align: top;\n",
       "    }\n",
       "\n",
       "    .dataframe thead th {\n",
       "        text-align: right;\n",
       "    }\n",
       "</style>\n",
       "<table border=\"1\" class=\"dataframe\">\n",
       "  <thead>\n",
       "    <tr style=\"text-align: right;\">\n",
       "      <th></th>\n",
       "      <th>Unnamed: 0</th>\n",
       "      <th>LineFit_TTParams.lf_vel_z</th>\n",
       "      <th>HitStatisticsValues.max_pulse_time</th>\n",
       "      <th>SplineMPEFitParams.rlogl</th>\n",
       "      <th>HitStatisticsValues.z_travel</th>\n",
       "      <th>SplineMPEDirectHitsA.n_dir_strings</th>\n",
       "      <th>LineFit_TT.zenith</th>\n",
       "      <th>NewAtt.DeltaZd</th>\n",
       "      <th>MuEXAngular4.zenith</th>\n",
       "      <th>NewAtt.SplineVerRadius</th>\n",
       "      <th>...</th>\n",
       "      <th>MPEFitParaboloid.zenith</th>\n",
       "      <th>SplineMPETruncatedEnergy_SPICEMie_AllBINS_MuEres.value</th>\n",
       "      <th>MPEFitParaboloidFitParams.zenith</th>\n",
       "      <th>SplineMPETruncatedEnergy_SPICEMie_AllDOMS_MuEres.value</th>\n",
       "      <th>SPEFit2Bayesian.z</th>\n",
       "      <th>SplineMPECharacteristics.track_hits_separation_length</th>\n",
       "      <th>SplineMPEDirectHitsC.n_dir_doms</th>\n",
       "      <th>LineFit_TTParams.lf_vel</th>\n",
       "      <th>HitStatisticsValues.z_min</th>\n",
       "      <th>MPEFitParaboloidFitParams.err1</th>\n",
       "    </tr>\n",
       "  </thead>\n",
       "  <tbody>\n",
       "    <tr>\n",
       "      <th>0</th>\n",
       "      <td>0</td>\n",
       "      <td>0.096287</td>\n",
       "      <td>11562.126953</td>\n",
       "      <td>10.367244</td>\n",
       "      <td>24.109411</td>\n",
       "      <td>2.0</td>\n",
       "      <td>1.960378</td>\n",
       "      <td>0.026920</td>\n",
       "      <td>1.928833</td>\n",
       "      <td>512.131798</td>\n",
       "      <td>...</td>\n",
       "      <td>1.933928</td>\n",
       "      <td>0.467407</td>\n",
       "      <td>1.933928</td>\n",
       "      <td>0.499311</td>\n",
       "      <td>80.936164</td>\n",
       "      <td>80.903746</td>\n",
       "      <td>5.0</td>\n",
       "      <td>0.253519</td>\n",
       "      <td>24.900000</td>\n",
       "      <td>0.065920</td>\n",
       "    </tr>\n",
       "    <tr>\n",
       "      <th>1</th>\n",
       "      <td>1</td>\n",
       "      <td>-0.005039</td>\n",
       "      <td>11123.472656</td>\n",
       "      <td>10.400910</td>\n",
       "      <td>-6.289331</td>\n",
       "      <td>1.0</td>\n",
       "      <td>1.552397</td>\n",
       "      <td>0.048566</td>\n",
       "      <td>1.597158</td>\n",
       "      <td>518.199752</td>\n",
       "      <td>...</td>\n",
       "      <td>1.600047</td>\n",
       "      <td>0.467407</td>\n",
       "      <td>1.600047</td>\n",
       "      <td>0.451037</td>\n",
       "      <td>511.046096</td>\n",
       "      <td>133.643512</td>\n",
       "      <td>5.0</td>\n",
       "      <td>0.273855</td>\n",
       "      <td>411.839996</td>\n",
       "      <td>0.050926</td>\n",
       "    </tr>\n",
       "    <tr>\n",
       "      <th>2</th>\n",
       "      <td>2</td>\n",
       "      <td>-0.038434</td>\n",
       "      <td>11696.294922</td>\n",
       "      <td>10.299522</td>\n",
       "      <td>-21.047453</td>\n",
       "      <td>0.0</td>\n",
       "      <td>1.425490</td>\n",
       "      <td>0.086434</td>\n",
       "      <td>1.522798</td>\n",
       "      <td>160.688747</td>\n",
       "      <td>...</td>\n",
       "      <td>1.528091</td>\n",
       "      <td>0.467407</td>\n",
       "      <td>1.528091</td>\n",
       "      <td>0.499311</td>\n",
       "      <td>450.663319</td>\n",
       "      <td>220.519899</td>\n",
       "      <td>5.0</td>\n",
       "      <td>0.265440</td>\n",
       "      <td>398.850006</td>\n",
       "      <td>0.059130</td>\n",
       "    </tr>\n",
       "    <tr>\n",
       "      <th>3</th>\n",
       "      <td>3</td>\n",
       "      <td>0.060110</td>\n",
       "      <td>11803.718750</td>\n",
       "      <td>10.355911</td>\n",
       "      <td>63.821544</td>\n",
       "      <td>2.0</td>\n",
       "      <td>1.996007</td>\n",
       "      <td>0.321507</td>\n",
       "      <td>2.330743</td>\n",
       "      <td>480.050446</td>\n",
       "      <td>...</td>\n",
       "      <td>2.690799</td>\n",
       "      <td>0.467407</td>\n",
       "      <td>2.690799</td>\n",
       "      <td>0.499311</td>\n",
       "      <td>-336.646086</td>\n",
       "      <td>158.044505</td>\n",
       "      <td>10.0</td>\n",
       "      <td>0.145717</td>\n",
       "      <td>-485.350006</td>\n",
       "      <td>0.184114</td>\n",
       "    </tr>\n",
       "    <tr>\n",
       "      <th>4</th>\n",
       "      <td>4</td>\n",
       "      <td>-0.022277</td>\n",
       "      <td>12542.181641</td>\n",
       "      <td>8.970953</td>\n",
       "      <td>-4.247991</td>\n",
       "      <td>1.0</td>\n",
       "      <td>1.480177</td>\n",
       "      <td>0.174903</td>\n",
       "      <td>1.637345</td>\n",
       "      <td>143.752855</td>\n",
       "      <td>...</td>\n",
       "      <td>1.676679</td>\n",
       "      <td>0.467407</td>\n",
       "      <td>1.676679</td>\n",
       "      <td>0.451037</td>\n",
       "      <td>37.702177</td>\n",
       "      <td>321.034819</td>\n",
       "      <td>5.0</td>\n",
       "      <td>0.246164</td>\n",
       "      <td>40.500000</td>\n",
       "      <td>0.040053</td>\n",
       "    </tr>\n",
       "    <tr>\n",
       "      <th>...</th>\n",
       "      <td>...</td>\n",
       "      <td>...</td>\n",
       "      <td>...</td>\n",
       "      <td>...</td>\n",
       "      <td>...</td>\n",
       "      <td>...</td>\n",
       "      <td>...</td>\n",
       "      <td>...</td>\n",
       "      <td>...</td>\n",
       "      <td>...</td>\n",
       "      <td>...</td>\n",
       "      <td>...</td>\n",
       "      <td>...</td>\n",
       "      <td>...</td>\n",
       "      <td>...</td>\n",
       "      <td>...</td>\n",
       "      <td>...</td>\n",
       "      <td>...</td>\n",
       "      <td>...</td>\n",
       "      <td>...</td>\n",
       "      <td>...</td>\n",
       "    </tr>\n",
       "    <tr>\n",
       "      <th>35647</th>\n",
       "      <td>17928</td>\n",
       "      <td>0.129337</td>\n",
       "      <td>10940.264648</td>\n",
       "      <td>10.790305</td>\n",
       "      <td>54.303889</td>\n",
       "      <td>2.0</td>\n",
       "      <td>2.053326</td>\n",
       "      <td>0.217800</td>\n",
       "      <td>2.275019</td>\n",
       "      <td>325.801372</td>\n",
       "      <td>...</td>\n",
       "      <td>2.276741</td>\n",
       "      <td>0.467407</td>\n",
       "      <td>2.276741</td>\n",
       "      <td>0.529430</td>\n",
       "      <td>25.809960</td>\n",
       "      <td>138.129732</td>\n",
       "      <td>7.0</td>\n",
       "      <td>0.278730</td>\n",
       "      <td>-10.810000</td>\n",
       "      <td>0.104930</td>\n",
       "    </tr>\n",
       "    <tr>\n",
       "      <th>35648</th>\n",
       "      <td>17929</td>\n",
       "      <td>0.096921</td>\n",
       "      <td>11888.145508</td>\n",
       "      <td>8.593457</td>\n",
       "      <td>65.840907</td>\n",
       "      <td>2.0</td>\n",
       "      <td>1.891245</td>\n",
       "      <td>0.006878</td>\n",
       "      <td>1.893658</td>\n",
       "      <td>376.414197</td>\n",
       "      <td>...</td>\n",
       "      <td>1.911301</td>\n",
       "      <td>0.378125</td>\n",
       "      <td>1.911301</td>\n",
       "      <td>0.499311</td>\n",
       "      <td>380.117496</td>\n",
       "      <td>338.086471</td>\n",
       "      <td>7.0</td>\n",
       "      <td>0.307692</td>\n",
       "      <td>331.600006</td>\n",
       "      <td>0.015774</td>\n",
       "    </tr>\n",
       "    <tr>\n",
       "      <th>35649</th>\n",
       "      <td>17930</td>\n",
       "      <td>-0.002848</td>\n",
       "      <td>11764.501953</td>\n",
       "      <td>8.098555</td>\n",
       "      <td>-1.645002</td>\n",
       "      <td>3.0</td>\n",
       "      <td>1.559774</td>\n",
       "      <td>0.030703</td>\n",
       "      <td>1.542472</td>\n",
       "      <td>312.563673</td>\n",
       "      <td>...</td>\n",
       "      <td>1.530017</td>\n",
       "      <td>0.378125</td>\n",
       "      <td>1.530017</td>\n",
       "      <td>0.473491</td>\n",
       "      <td>-176.184763</td>\n",
       "      <td>227.499373</td>\n",
       "      <td>8.0</td>\n",
       "      <td>0.258393</td>\n",
       "      <td>-193.440002</td>\n",
       "      <td>0.015564</td>\n",
       "    </tr>\n",
       "    <tr>\n",
       "      <th>35650</th>\n",
       "      <td>17931</td>\n",
       "      <td>0.089573</td>\n",
       "      <td>11319.460938</td>\n",
       "      <td>8.002074</td>\n",
       "      <td>46.581677</td>\n",
       "      <td>2.0</td>\n",
       "      <td>1.878569</td>\n",
       "      <td>0.011253</td>\n",
       "      <td>1.873545</td>\n",
       "      <td>335.954455</td>\n",
       "      <td>...</td>\n",
       "      <td>1.862003</td>\n",
       "      <td>0.378125</td>\n",
       "      <td>1.862003</td>\n",
       "      <td>0.397956</td>\n",
       "      <td>-608.913607</td>\n",
       "      <td>225.166288</td>\n",
       "      <td>8.0</td>\n",
       "      <td>0.295682</td>\n",
       "      <td>-467.519989</td>\n",
       "      <td>0.039250</td>\n",
       "    </tr>\n",
       "    <tr>\n",
       "      <th>35651</th>\n",
       "      <td>17932</td>\n",
       "      <td>0.080752</td>\n",
       "      <td>12717.689453</td>\n",
       "      <td>6.871135</td>\n",
       "      <td>29.370021</td>\n",
       "      <td>3.0</td>\n",
       "      <td>1.846341</td>\n",
       "      <td>0.025635</td>\n",
       "      <td>1.871517</td>\n",
       "      <td>371.972094</td>\n",
       "      <td>...</td>\n",
       "      <td>1.871368</td>\n",
       "      <td>0.229110</td>\n",
       "      <td>1.871368</td>\n",
       "      <td>0.338061</td>\n",
       "      <td>-409.693381</td>\n",
       "      <td>379.061003</td>\n",
       "      <td>13.0</td>\n",
       "      <td>0.296805</td>\n",
       "      <td>-434.059998</td>\n",
       "      <td>0.011405</td>\n",
       "    </tr>\n",
       "  </tbody>\n",
       "</table>\n",
       "<p>35652 rows × 34 columns</p>\n",
       "</div>"
      ],
      "text/plain": [
       "       Unnamed: 0  LineFit_TTParams.lf_vel_z  \\\n",
       "0               0                   0.096287   \n",
       "1               1                  -0.005039   \n",
       "2               2                  -0.038434   \n",
       "3               3                   0.060110   \n",
       "4               4                  -0.022277   \n",
       "...           ...                        ...   \n",
       "35647       17928                   0.129337   \n",
       "35648       17929                   0.096921   \n",
       "35649       17930                  -0.002848   \n",
       "35650       17931                   0.089573   \n",
       "35651       17932                   0.080752   \n",
       "\n",
       "       HitStatisticsValues.max_pulse_time  SplineMPEFitParams.rlogl  \\\n",
       "0                            11562.126953                 10.367244   \n",
       "1                            11123.472656                 10.400910   \n",
       "2                            11696.294922                 10.299522   \n",
       "3                            11803.718750                 10.355911   \n",
       "4                            12542.181641                  8.970953   \n",
       "...                                   ...                       ...   \n",
       "35647                        10940.264648                 10.790305   \n",
       "35648                        11888.145508                  8.593457   \n",
       "35649                        11764.501953                  8.098555   \n",
       "35650                        11319.460938                  8.002074   \n",
       "35651                        12717.689453                  6.871135   \n",
       "\n",
       "       HitStatisticsValues.z_travel  SplineMPEDirectHitsA.n_dir_strings  \\\n",
       "0                         24.109411                                 2.0   \n",
       "1                         -6.289331                                 1.0   \n",
       "2                        -21.047453                                 0.0   \n",
       "3                         63.821544                                 2.0   \n",
       "4                         -4.247991                                 1.0   \n",
       "...                             ...                                 ...   \n",
       "35647                     54.303889                                 2.0   \n",
       "35648                     65.840907                                 2.0   \n",
       "35649                     -1.645002                                 3.0   \n",
       "35650                     46.581677                                 2.0   \n",
       "35651                     29.370021                                 3.0   \n",
       "\n",
       "       LineFit_TT.zenith  NewAtt.DeltaZd  MuEXAngular4.zenith  \\\n",
       "0               1.960378        0.026920             1.928833   \n",
       "1               1.552397        0.048566             1.597158   \n",
       "2               1.425490        0.086434             1.522798   \n",
       "3               1.996007        0.321507             2.330743   \n",
       "4               1.480177        0.174903             1.637345   \n",
       "...                  ...             ...                  ...   \n",
       "35647           2.053326        0.217800             2.275019   \n",
       "35648           1.891245        0.006878             1.893658   \n",
       "35649           1.559774        0.030703             1.542472   \n",
       "35650           1.878569        0.011253             1.873545   \n",
       "35651           1.846341        0.025635             1.871517   \n",
       "\n",
       "       NewAtt.SplineVerRadius  ...  MPEFitParaboloid.zenith  \\\n",
       "0                  512.131798  ...                 1.933928   \n",
       "1                  518.199752  ...                 1.600047   \n",
       "2                  160.688747  ...                 1.528091   \n",
       "3                  480.050446  ...                 2.690799   \n",
       "4                  143.752855  ...                 1.676679   \n",
       "...                       ...  ...                      ...   \n",
       "35647              325.801372  ...                 2.276741   \n",
       "35648              376.414197  ...                 1.911301   \n",
       "35649              312.563673  ...                 1.530017   \n",
       "35650              335.954455  ...                 1.862003   \n",
       "35651              371.972094  ...                 1.871368   \n",
       "\n",
       "       SplineMPETruncatedEnergy_SPICEMie_AllBINS_MuEres.value  \\\n",
       "0                                               0.467407        \n",
       "1                                               0.467407        \n",
       "2                                               0.467407        \n",
       "3                                               0.467407        \n",
       "4                                               0.467407        \n",
       "...                                                  ...        \n",
       "35647                                           0.467407        \n",
       "35648                                           0.378125        \n",
       "35649                                           0.378125        \n",
       "35650                                           0.378125        \n",
       "35651                                           0.229110        \n",
       "\n",
       "       MPEFitParaboloidFitParams.zenith  \\\n",
       "0                              1.933928   \n",
       "1                              1.600047   \n",
       "2                              1.528091   \n",
       "3                              2.690799   \n",
       "4                              1.676679   \n",
       "...                                 ...   \n",
       "35647                          2.276741   \n",
       "35648                          1.911301   \n",
       "35649                          1.530017   \n",
       "35650                          1.862003   \n",
       "35651                          1.871368   \n",
       "\n",
       "       SplineMPETruncatedEnergy_SPICEMie_AllDOMS_MuEres.value  \\\n",
       "0                                               0.499311        \n",
       "1                                               0.451037        \n",
       "2                                               0.499311        \n",
       "3                                               0.499311        \n",
       "4                                               0.451037        \n",
       "...                                                  ...        \n",
       "35647                                           0.529430        \n",
       "35648                                           0.499311        \n",
       "35649                                           0.473491        \n",
       "35650                                           0.397956        \n",
       "35651                                           0.338061        \n",
       "\n",
       "       SPEFit2Bayesian.z  \\\n",
       "0              80.936164   \n",
       "1             511.046096   \n",
       "2             450.663319   \n",
       "3            -336.646086   \n",
       "4              37.702177   \n",
       "...                  ...   \n",
       "35647          25.809960   \n",
       "35648         380.117496   \n",
       "35649        -176.184763   \n",
       "35650        -608.913607   \n",
       "35651        -409.693381   \n",
       "\n",
       "       SplineMPECharacteristics.track_hits_separation_length  \\\n",
       "0                                              80.903746       \n",
       "1                                             133.643512       \n",
       "2                                             220.519899       \n",
       "3                                             158.044505       \n",
       "4                                             321.034819       \n",
       "...                                                  ...       \n",
       "35647                                         138.129732       \n",
       "35648                                         338.086471       \n",
       "35649                                         227.499373       \n",
       "35650                                         225.166288       \n",
       "35651                                         379.061003       \n",
       "\n",
       "       SplineMPEDirectHitsC.n_dir_doms  LineFit_TTParams.lf_vel  \\\n",
       "0                                  5.0                 0.253519   \n",
       "1                                  5.0                 0.273855   \n",
       "2                                  5.0                 0.265440   \n",
       "3                                 10.0                 0.145717   \n",
       "4                                  5.0                 0.246164   \n",
       "...                                ...                      ...   \n",
       "35647                              7.0                 0.278730   \n",
       "35648                              7.0                 0.307692   \n",
       "35649                              8.0                 0.258393   \n",
       "35650                              8.0                 0.295682   \n",
       "35651                             13.0                 0.296805   \n",
       "\n",
       "       HitStatisticsValues.z_min  MPEFitParaboloidFitParams.err1  \n",
       "0                      24.900000                        0.065920  \n",
       "1                     411.839996                        0.050926  \n",
       "2                     398.850006                        0.059130  \n",
       "3                    -485.350006                        0.184114  \n",
       "4                      40.500000                        0.040053  \n",
       "...                          ...                             ...  \n",
       "35647                 -10.810000                        0.104930  \n",
       "35648                 331.600006                        0.015774  \n",
       "35649                -193.440002                        0.015564  \n",
       "35650                -467.519989                        0.039250  \n",
       "35651                -434.059998                        0.011405  \n",
       "\n",
       "[35652 rows x 34 columns]"
      ]
     },
     "execution_count": 10,
     "metadata": {},
     "output_type": "execute_result"
    }
   ],
   "source": [
    "#Import training and validation data\n",
    "df = pd.read_csv('build/training_data.csv')\n",
    "lbl = df['label']\n",
    "df = df.drop(columns='label')\n",
    "\n",
    "Xtrain,Xtest, ytrain, ytest = train_test_split(df, lbl, test_size = 0.3, random_state = 555)\n",
    "df"
   ]
  },
  {
   "cell_type": "code",
   "execution_count": 11,
   "id": "0dd9745f-87ed-4a34-8d3d-e45c287ff1b8",
   "metadata": {},
   "outputs": [
    {
     "name": "stderr",
     "output_type": "stream",
     "text": [
      "  0%|          | 0/5 [00:00<?, ?it/s]"
     ]
    },
    {
     "name": "stdout",
     "output_type": "stream",
     "text": [
      "[0]\tvalidation_0-logloss:0.49654\n",
      "[1]\tvalidation_0-logloss:0.38154\n",
      "[2]\tvalidation_0-logloss:0.30782\n",
      "[3]\tvalidation_0-logloss:0.25640\n",
      "[4]\tvalidation_0-logloss:0.22069\n",
      "[5]\tvalidation_0-logloss:0.19411\n",
      "[6]\tvalidation_0-logloss:0.17329\n",
      "[7]\tvalidation_0-logloss:0.15717\n",
      "[8]\tvalidation_0-logloss:0.14562\n",
      "[9]\tvalidation_0-logloss:0.13742\n",
      "[10]\tvalidation_0-logloss:0.13080\n",
      "[11]\tvalidation_0-logloss:0.12573\n",
      "[12]\tvalidation_0-logloss:0.12036\n",
      "[13]\tvalidation_0-logloss:0.11680\n",
      "[14]\tvalidation_0-logloss:0.11419\n",
      "[15]\tvalidation_0-logloss:0.11095\n",
      "[16]\tvalidation_0-logloss:0.10901\n",
      "[17]\tvalidation_0-logloss:0.10816\n",
      "[18]\tvalidation_0-logloss:0.10667\n",
      "[19]\tvalidation_0-logloss:0.10453\n",
      "[20]\tvalidation_0-logloss:0.10409\n",
      "[21]\tvalidation_0-logloss:0.10362\n",
      "[22]\tvalidation_0-logloss:0.10274\n",
      "[23]\tvalidation_0-logloss:0.10209\n",
      "[24]\tvalidation_0-logloss:0.10222\n",
      "[25]\tvalidation_0-logloss:0.10174\n",
      "[26]\tvalidation_0-logloss:0.10022\n",
      "[27]\tvalidation_0-logloss:0.09965\n",
      "[28]\tvalidation_0-logloss:0.09907\n",
      "[29]\tvalidation_0-logloss:0.09816\n",
      "[30]\tvalidation_0-logloss:0.09839\n",
      "[31]\tvalidation_0-logloss:0.09845\n",
      "[32]\tvalidation_0-logloss:0.09852\n",
      "[33]\tvalidation_0-logloss:0.09785\n",
      "[34]\tvalidation_0-logloss:0.09817\n",
      "[35]\tvalidation_0-logloss:0.09817\n",
      "[36]\tvalidation_0-logloss:0.09795\n",
      "[37]\tvalidation_0-logloss:0.09766\n",
      "[38]\tvalidation_0-logloss:0.09782\n",
      "[39]\tvalidation_0-logloss:0.09747\n",
      "[40]\tvalidation_0-logloss:0.09721\n",
      "[41]\tvalidation_0-logloss:0.09741\n",
      "[42]\tvalidation_0-logloss:0.09732\n",
      "[43]\tvalidation_0-logloss:0.09733\n",
      "[44]\tvalidation_0-logloss:0.09712\n",
      "[45]\tvalidation_0-logloss:0.09709\n",
      "[46]\tvalidation_0-logloss:0.09763\n",
      "[47]\tvalidation_0-logloss:0.09761\n",
      "[48]\tvalidation_0-logloss:0.09755\n",
      "[49]\tvalidation_0-logloss:0.09776\n",
      "[50]\tvalidation_0-logloss:0.09797\n",
      "[51]\tvalidation_0-logloss:0.09818\n",
      "[52]\tvalidation_0-logloss:0.09840\n",
      "[53]\tvalidation_0-logloss:0.09866\n",
      "[54]\tvalidation_0-logloss:0.09889\n",
      "[55]\tvalidation_0-logloss:0.09901\n"
     ]
    },
    {
     "name": "stderr",
     "output_type": "stream",
     "text": [
      " 20%|██        | 1/5 [00:00<00:03,  1.16it/s]"
     ]
    },
    {
     "name": "stdout",
     "output_type": "stream",
     "text": [
      "[0]\tvalidation_0-logloss:0.49915\n",
      "[1]\tvalidation_0-logloss:0.38534\n",
      "[2]\tvalidation_0-logloss:0.31045\n",
      "[3]\tvalidation_0-logloss:0.26012\n",
      "[4]\tvalidation_0-logloss:0.22254\n",
      "[5]\tvalidation_0-logloss:0.19538\n",
      "[6]\tvalidation_0-logloss:0.17676\n",
      "[7]\tvalidation_0-logloss:0.16077\n",
      "[8]\tvalidation_0-logloss:0.14873\n",
      "[9]\tvalidation_0-logloss:0.13935\n",
      "[10]\tvalidation_0-logloss:0.13294\n",
      "[11]\tvalidation_0-logloss:0.12750\n",
      "[12]\tvalidation_0-logloss:0.12333\n",
      "[13]\tvalidation_0-logloss:0.11953\n",
      "[14]\tvalidation_0-logloss:0.11552\n",
      "[15]\tvalidation_0-logloss:0.11354\n",
      "[16]\tvalidation_0-logloss:0.11098\n",
      "[17]\tvalidation_0-logloss:0.10891\n",
      "[18]\tvalidation_0-logloss:0.10705\n",
      "[19]\tvalidation_0-logloss:0.10611\n",
      "[20]\tvalidation_0-logloss:0.10496\n",
      "[21]\tvalidation_0-logloss:0.10406\n",
      "[22]\tvalidation_0-logloss:0.10363\n",
      "[23]\tvalidation_0-logloss:0.10248\n",
      "[24]\tvalidation_0-logloss:0.10244\n",
      "[25]\tvalidation_0-logloss:0.10202\n",
      "[26]\tvalidation_0-logloss:0.10145\n",
      "[27]\tvalidation_0-logloss:0.10105\n",
      "[28]\tvalidation_0-logloss:0.10096\n",
      "[29]\tvalidation_0-logloss:0.10055\n",
      "[30]\tvalidation_0-logloss:0.10004\n",
      "[31]\tvalidation_0-logloss:0.09976\n",
      "[32]\tvalidation_0-logloss:0.09959\n",
      "[33]\tvalidation_0-logloss:0.09892\n",
      "[34]\tvalidation_0-logloss:0.09828\n",
      "[35]\tvalidation_0-logloss:0.09870\n",
      "[36]\tvalidation_0-logloss:0.09848\n",
      "[37]\tvalidation_0-logloss:0.09788\n",
      "[38]\tvalidation_0-logloss:0.09782\n",
      "[39]\tvalidation_0-logloss:0.09778\n",
      "[40]\tvalidation_0-logloss:0.09776\n",
      "[41]\tvalidation_0-logloss:0.09772\n",
      "[42]\tvalidation_0-logloss:0.09761\n",
      "[43]\tvalidation_0-logloss:0.09693\n",
      "[44]\tvalidation_0-logloss:0.09701\n",
      "[45]\tvalidation_0-logloss:0.09703\n",
      "[46]\tvalidation_0-logloss:0.09733\n",
      "[47]\tvalidation_0-logloss:0.09718\n",
      "[48]\tvalidation_0-logloss:0.09723\n",
      "[49]\tvalidation_0-logloss:0.09729\n",
      "[50]\tvalidation_0-logloss:0.09735\n",
      "[51]\tvalidation_0-logloss:0.09748\n",
      "[52]\tvalidation_0-logloss:0.09760\n"
     ]
    },
    {
     "name": "stderr",
     "output_type": "stream",
     "text": [
      " 40%|████      | 2/5 [00:01<00:02,  1.16it/s]"
     ]
    },
    {
     "name": "stdout",
     "output_type": "stream",
     "text": [
      "[0]\tvalidation_0-logloss:0.49688\n",
      "[1]\tvalidation_0-logloss:0.37964\n",
      "[2]\tvalidation_0-logloss:0.30595\n",
      "[3]\tvalidation_0-logloss:0.25529\n",
      "[4]\tvalidation_0-logloss:0.21658\n",
      "[5]\tvalidation_0-logloss:0.18906\n",
      "[6]\tvalidation_0-logloss:0.16891\n",
      "[7]\tvalidation_0-logloss:0.15308\n",
      "[8]\tvalidation_0-logloss:0.14069\n",
      "[9]\tvalidation_0-logloss:0.13004\n",
      "[10]\tvalidation_0-logloss:0.12207\n",
      "[11]\tvalidation_0-logloss:0.11671\n",
      "[12]\tvalidation_0-logloss:0.11236\n",
      "[13]\tvalidation_0-logloss:0.10765\n",
      "[14]\tvalidation_0-logloss:0.10457\n",
      "[15]\tvalidation_0-logloss:0.10178\n",
      "[16]\tvalidation_0-logloss:0.09924\n",
      "[17]\tvalidation_0-logloss:0.09737\n",
      "[18]\tvalidation_0-logloss:0.09577\n",
      "[19]\tvalidation_0-logloss:0.09440\n",
      "[20]\tvalidation_0-logloss:0.09369\n",
      "[21]\tvalidation_0-logloss:0.09253\n",
      "[22]\tvalidation_0-logloss:0.09188\n",
      "[23]\tvalidation_0-logloss:0.09048\n",
      "[24]\tvalidation_0-logloss:0.08994\n",
      "[25]\tvalidation_0-logloss:0.08897\n",
      "[26]\tvalidation_0-logloss:0.08801\n",
      "[27]\tvalidation_0-logloss:0.08705\n",
      "[28]\tvalidation_0-logloss:0.08658\n",
      "[29]\tvalidation_0-logloss:0.08650\n",
      "[30]\tvalidation_0-logloss:0.08600\n",
      "[31]\tvalidation_0-logloss:0.08554\n",
      "[32]\tvalidation_0-logloss:0.08594\n",
      "[33]\tvalidation_0-logloss:0.08552\n",
      "[34]\tvalidation_0-logloss:0.08543\n",
      "[35]\tvalidation_0-logloss:0.08509\n",
      "[36]\tvalidation_0-logloss:0.08475\n",
      "[37]\tvalidation_0-logloss:0.08473\n",
      "[38]\tvalidation_0-logloss:0.08491\n",
      "[39]\tvalidation_0-logloss:0.08466\n",
      "[40]\tvalidation_0-logloss:0.08469\n",
      "[41]\tvalidation_0-logloss:0.08438\n",
      "[42]\tvalidation_0-logloss:0.08436\n",
      "[43]\tvalidation_0-logloss:0.08415\n",
      "[44]\tvalidation_0-logloss:0.08415\n",
      "[45]\tvalidation_0-logloss:0.08437\n",
      "[46]\tvalidation_0-logloss:0.08414\n",
      "[47]\tvalidation_0-logloss:0.08424\n",
      "[48]\tvalidation_0-logloss:0.08408\n",
      "[49]\tvalidation_0-logloss:0.08422\n",
      "[50]\tvalidation_0-logloss:0.08417\n",
      "[51]\tvalidation_0-logloss:0.08416\n",
      "[52]\tvalidation_0-logloss:0.08424\n",
      "[53]\tvalidation_0-logloss:0.08439\n",
      "[54]\tvalidation_0-logloss:0.08433\n",
      "[55]\tvalidation_0-logloss:0.08453\n",
      "[56]\tvalidation_0-logloss:0.08411\n",
      "[57]\tvalidation_0-logloss:0.08417\n",
      "[58]\tvalidation_0-logloss:0.08415\n"
     ]
    },
    {
     "name": "stderr",
     "output_type": "stream",
     "text": [
      " 60%|██████    | 3/5 [00:02<00:01,  1.11it/s]"
     ]
    },
    {
     "name": "stdout",
     "output_type": "stream",
     "text": [
      "[0]\tvalidation_0-logloss:0.49566\n",
      "[1]\tvalidation_0-logloss:0.38096\n",
      "[2]\tvalidation_0-logloss:0.30691\n",
      "[3]\tvalidation_0-logloss:0.25700\n",
      "[4]\tvalidation_0-logloss:0.21941\n",
      "[5]\tvalidation_0-logloss:0.19335\n",
      "[6]\tvalidation_0-logloss:0.17330\n",
      "[7]\tvalidation_0-logloss:0.15618\n",
      "[8]\tvalidation_0-logloss:0.14462\n",
      "[9]\tvalidation_0-logloss:0.13547\n",
      "[10]\tvalidation_0-logloss:0.12839\n",
      "[11]\tvalidation_0-logloss:0.12312\n",
      "[12]\tvalidation_0-logloss:0.11887\n",
      "[13]\tvalidation_0-logloss:0.11490\n",
      "[14]\tvalidation_0-logloss:0.11219\n",
      "[15]\tvalidation_0-logloss:0.10925\n",
      "[16]\tvalidation_0-logloss:0.10707\n",
      "[17]\tvalidation_0-logloss:0.10573\n",
      "[18]\tvalidation_0-logloss:0.10293\n",
      "[19]\tvalidation_0-logloss:0.10158\n",
      "[20]\tvalidation_0-logloss:0.10093\n",
      "[21]\tvalidation_0-logloss:0.09992\n",
      "[22]\tvalidation_0-logloss:0.09895\n",
      "[23]\tvalidation_0-logloss:0.09847\n",
      "[24]\tvalidation_0-logloss:0.09804\n",
      "[25]\tvalidation_0-logloss:0.09738\n",
      "[26]\tvalidation_0-logloss:0.09683\n",
      "[27]\tvalidation_0-logloss:0.09599\n",
      "[28]\tvalidation_0-logloss:0.09588\n",
      "[29]\tvalidation_0-logloss:0.09672\n",
      "[30]\tvalidation_0-logloss:0.09628\n",
      "[31]\tvalidation_0-logloss:0.09612\n",
      "[32]\tvalidation_0-logloss:0.09636\n",
      "[33]\tvalidation_0-logloss:0.09652\n",
      "[34]\tvalidation_0-logloss:0.09724\n",
      "[35]\tvalidation_0-logloss:0.09695\n",
      "[36]\tvalidation_0-logloss:0.09673\n",
      "[37]\tvalidation_0-logloss:0.09659\n"
     ]
    },
    {
     "name": "stderr",
     "output_type": "stream",
     "text": [
      " 80%|████████  | 4/5 [00:03<00:00,  1.04it/s]"
     ]
    },
    {
     "name": "stdout",
     "output_type": "stream",
     "text": [
      "[0]\tvalidation_0-logloss:0.49863\n",
      "[1]\tvalidation_0-logloss:0.38195\n",
      "[2]\tvalidation_0-logloss:0.30823\n",
      "[3]\tvalidation_0-logloss:0.25641\n",
      "[4]\tvalidation_0-logloss:0.21891\n",
      "[5]\tvalidation_0-logloss:0.19051\n",
      "[6]\tvalidation_0-logloss:0.17039\n",
      "[7]\tvalidation_0-logloss:0.15445\n",
      "[8]\tvalidation_0-logloss:0.14326\n",
      "[9]\tvalidation_0-logloss:0.13491\n",
      "[10]\tvalidation_0-logloss:0.12663\n",
      "[11]\tvalidation_0-logloss:0.12098\n",
      "[12]\tvalidation_0-logloss:0.11600\n",
      "[13]\tvalidation_0-logloss:0.11192\n",
      "[14]\tvalidation_0-logloss:0.10820\n",
      "[15]\tvalidation_0-logloss:0.10605\n",
      "[16]\tvalidation_0-logloss:0.10294\n",
      "[17]\tvalidation_0-logloss:0.10088\n",
      "[18]\tvalidation_0-logloss:0.09914\n",
      "[19]\tvalidation_0-logloss:0.09842\n",
      "[20]\tvalidation_0-logloss:0.09606\n",
      "[21]\tvalidation_0-logloss:0.09455\n",
      "[22]\tvalidation_0-logloss:0.09420\n",
      "[23]\tvalidation_0-logloss:0.09364\n",
      "[24]\tvalidation_0-logloss:0.09285\n",
      "[25]\tvalidation_0-logloss:0.09227\n",
      "[26]\tvalidation_0-logloss:0.09135\n",
      "[27]\tvalidation_0-logloss:0.09087\n",
      "[28]\tvalidation_0-logloss:0.08966\n",
      "[29]\tvalidation_0-logloss:0.08911\n",
      "[30]\tvalidation_0-logloss:0.08852\n",
      "[31]\tvalidation_0-logloss:0.08794\n",
      "[32]\tvalidation_0-logloss:0.08720\n",
      "[33]\tvalidation_0-logloss:0.08680\n",
      "[34]\tvalidation_0-logloss:0.08678\n",
      "[35]\tvalidation_0-logloss:0.08652\n",
      "[36]\tvalidation_0-logloss:0.08616\n",
      "[37]\tvalidation_0-logloss:0.08585\n",
      "[38]\tvalidation_0-logloss:0.08612\n",
      "[39]\tvalidation_0-logloss:0.08609\n",
      "[40]\tvalidation_0-logloss:0.08581\n",
      "[41]\tvalidation_0-logloss:0.08557\n",
      "[42]\tvalidation_0-logloss:0.08504\n",
      "[43]\tvalidation_0-logloss:0.08524\n",
      "[44]\tvalidation_0-logloss:0.08508\n",
      "[45]\tvalidation_0-logloss:0.08473\n",
      "[46]\tvalidation_0-logloss:0.08494\n",
      "[47]\tvalidation_0-logloss:0.08437\n",
      "[48]\tvalidation_0-logloss:0.08472\n",
      "[49]\tvalidation_0-logloss:0.08439\n",
      "[50]\tvalidation_0-logloss:0.08439\n",
      "[51]\tvalidation_0-logloss:0.08419\n",
      "[52]\tvalidation_0-logloss:0.08410\n",
      "[53]\tvalidation_0-logloss:0.08361\n",
      "[54]\tvalidation_0-logloss:0.08330\n",
      "[55]\tvalidation_0-logloss:0.08353\n",
      "[56]\tvalidation_0-logloss:0.08332\n",
      "[57]\tvalidation_0-logloss:0.08374\n",
      "[58]\tvalidation_0-logloss:0.08396\n",
      "[59]\tvalidation_0-logloss:0.08354\n",
      "[60]\tvalidation_0-logloss:0.08363\n",
      "[61]\tvalidation_0-logloss:0.08390\n",
      "[62]\tvalidation_0-logloss:0.08395\n",
      "[63]\tvalidation_0-logloss:0.08411\n"
     ]
    },
    {
     "name": "stderr",
     "output_type": "stream",
     "text": [
      "100%|██████████| 5/5 [00:05<00:00,  1.07s/it]\n"
     ]
    }
   ],
   "source": [
    "#Implementing training function with stratifiesKFold\n",
    "def trainModel(X,y,k = 5):\n",
    "    skf = StratifiedKFold(n_splits=k, random_state=555, shuffle=True)\n",
    "    model = []\n",
    "    for _, (train_index, test_index) in zip(tqdm(range(k)), skf.split(X, y)):\n",
    "        bdt = xgb.XGBClassifier(tree_method='hist', random_state=555, objective='binary:logistic'\n",
    "                              , early_stopping_rounds=10, eval_metric=[\"logloss\"])\n",
    "        \n",
    "        bdt.fit(X.to_numpy()[train_index], y.to_numpy()[train_index],\n",
    "                eval_set=[(X.to_numpy()[test_index], y.to_numpy()[test_index])]);\n",
    "        model.append(bdt)\n",
    "    return model\n",
    "\n",
    "model = trainModel(Xtrain,ytrain, 5)"
   ]
  },
  {
   "cell_type": "code",
   "execution_count": 17,
   "id": "59493678-86e8-4944-bb52-10f7f954ad2b",
   "metadata": {},
   "outputs": [
    {
     "data": {
      "text/plain": [
       "array([2.2522206e-04, 9.9980611e-01, 3.3993616e-03, ..., 9.9649560e-01,\n",
       "       6.3329506e-01, 9.9985284e-01], dtype=float32)"
      ]
     },
     "execution_count": 17,
     "metadata": {},
     "output_type": "execute_result"
    }
   ],
   "source": [
    "#Implementing prediction\n",
    "def predict(model, X):\n",
    "    res = []\n",
    "    for m in model:\n",
    "        res.append(m.predict_proba(X)[:,1])\n",
    "    return np.mean(res, axis = 0)\n",
    "\n",
    "ypred = predict(model, Xtest.to_numpy())\n",
    "ypred"
   ]
  },
  {
   "cell_type": "code",
   "execution_count": 18,
   "id": "0c501f83-817f-4afa-98ee-12f597e849ab",
   "metadata": {},
   "outputs": [
    {
     "name": "stdout",
     "output_type": "stream",
     "text": [
      "0.9955077181593477\n"
     ]
    },
    {
     "data": {
      "image/png": "[encoded data removed]",
      "text/plain": [
       "<Figure size 640x480 with 1 Axes>"
      ]
     },
     "metadata": {},
     "output_type": "display_data"
    }
   ],
   "source": [
    "#Calc ROC,AUC curve\n",
    "fpr, tpr, thresholds = metrics.roc_curve(ytest, ypred)\n",
    "plt.plot(fpr,tpr);\n",
    "AUC = metrics.roc_auc_score(ytest, ypred)\n",
    "print(AUC)"
   ]
  },
  {
   "cell_type": "code",
   "execution_count": 19,
   "id": "f3c2a0bd-4c6a-40e9-aba0-846abd38be24",
   "metadata": {},
   "outputs": [
    {
     "data": {
      "text/plain": [
       "[<matplotlib.lines.Line2D at 0x16616e52b90>]"
      ]
     },
     "execution_count": 19,
     "metadata": {},
     "output_type": "execute_result"
    },
    {
     "data": {
      "image/png": "[encoded data removed]",
      "text/plain": [
       "<Figure size 640x480 with 1 Axes>"
      ]
     },
     "metadata": {},
     "output_type": "display_data"
    }
   ],
   "source": [
    "#save ROC,AUC curve to disk\n",
    "file = open('build/BdtRoc.txt', 'w')\n",
    "file.write('#fpr tpr\\n')\n",
    "for f, t in zip(fpr, tpr):\n",
    "    file.write(f'{f} {t}\\n')\n",
    "file.write(f'-1 {AUC}')\n",
    "file.close()\n",
    "#Calc Precision Recall curve\n",
    "prec, rec, thresh = metrics.precision_recall_curve(ytest, ypred)\n",
    "\n",
    "plt.plot(prec, rec)"
   ]
  },
  {
   "cell_type": "code",
   "execution_count": 20,
   "id": "71f8903e-fffd-4bca-9ffa-c258d507f038",
   "metadata": {},
   "outputs": [
    {
     "data": {
      "text/plain": [
       "<matplotlib.collections.LineCollection at 0x16616d948d0>"
      ]
     },
     "execution_count": 20,
     "metadata": {},
     "output_type": "execute_result"
    },
    {
     "data": {
      "image/png": "[encoded data removed]",
      "text/plain": [
       "<Figure size 640x480 with 1 Axes>"
      ]
     },
     "metadata": {},
     "output_type": "display_data"
    }
   ],
   "source": [
    "#Find Threshold with fbeta score\n",
    "def fbeta(p, r, beta = 0.1):\n",
    "    return (1+beta**2)*(p*r)/(beta*p+r)\n",
    "\n",
    "fb = fbeta(prec, rec)[:-1]\n",
    "argTr = np.argmax(fb)\n",
    "plt.plot(thresh, fb)\n",
    "plt.vlines(thresh[argTr], 0, fb[argTr], color = 'orange', label = 'peak')"
   ]
  },
  {
   "cell_type": "code",
   "execution_count": 21,
   "id": "ee86092e-08ed-4d72-9465-7c8eaecd535b",
   "metadata": {},
   "outputs": [
    {
     "ename": "FileNotFoundError",
     "evalue": "[Errno 2] No such file or directory: 'test.csv'",
     "output_type": "error",
     "traceback": [
      "\u001b[1;31m---------------------------------------------------------------------------\u001b[0m",
      "\u001b[1;31mFileNotFoundError\u001b[0m                         Traceback (most recent call last)",
      "Cell \u001b[1;32mIn[21], line 2\u001b[0m\n\u001b[0;32m      1\u001b[0m \u001b[38;5;66;03m#classify test data\u001b[39;00m\n\u001b[1;32m----> 2\u001b[0m dftest \u001b[38;5;241m=\u001b[39m pd\u001b[38;5;241m.\u001b[39mread_csv(\u001b[38;5;124m'\u001b[39m\u001b[38;5;124mtest.csv\u001b[39m\u001b[38;5;124m'\u001b[39m, usecols \u001b[38;5;241m=\u001b[39m df\u001b[38;5;241m.\u001b[39mcolumns)\u001b[38;5;241m.\u001b[39mreindex(columns \u001b[38;5;241m=\u001b[39m df\u001b[38;5;241m.\u001b[39mcolumns)\n\u001b[0;32m      5\u001b[0m ypred_test \u001b[38;5;241m=\u001b[39m predict(model, dftest)\n\u001b[0;32m      7\u001b[0m threshold \u001b[38;5;241m=\u001b[39m thresh[argTr]\n",
      "File \u001b[1;32m~\\anaconda3\\Lib\\site-packages\\pandas\\io\\parsers\\readers.py:948\u001b[0m, in \u001b[0;36mread_csv\u001b[1;34m(filepath_or_buffer, sep, delimiter, header, names, index_col, usecols, dtype, engine, converters, true_values, false_values, skipinitialspace, skiprows, skipfooter, nrows, na_values, keep_default_na, na_filter, verbose, skip_blank_lines, parse_dates, infer_datetime_format, keep_date_col, date_parser, date_format, dayfirst, cache_dates, iterator, chunksize, compression, thousands, decimal, lineterminator, quotechar, quoting, doublequote, escapechar, comment, encoding, encoding_errors, dialect, on_bad_lines, delim_whitespace, low_memory, memory_map, float_precision, storage_options, dtype_backend)\u001b[0m\n\u001b[0;32m    935\u001b[0m kwds_defaults \u001b[38;5;241m=\u001b[39m _refine_defaults_read(\n\u001b[0;32m    936\u001b[0m     dialect,\n\u001b[0;32m    937\u001b[0m     delimiter,\n\u001b[1;32m   (...)\u001b[0m\n\u001b[0;32m    944\u001b[0m     dtype_backend\u001b[38;5;241m=\u001b[39mdtype_backend,\n\u001b[0;32m    945\u001b[0m )\n\u001b[0;32m    946\u001b[0m kwds\u001b[38;5;241m.\u001b[39mupdate(kwds_defaults)\n\u001b[1;32m--> 948\u001b[0m \u001b[38;5;28;01mreturn\u001b[39;00m _read(filepath_or_buffer, kwds)\n",
      "File \u001b[1;32m~\\anaconda3\\Lib\\site-packages\\pandas\\io\\parsers\\readers.py:611\u001b[0m, in \u001b[0;36m_read\u001b[1;34m(filepath_or_buffer, kwds)\u001b[0m\n\u001b[0;32m    608\u001b[0m _validate_names(kwds\u001b[38;5;241m.\u001b[39mget(\u001b[38;5;124m\"\u001b[39m\u001b[38;5;124mnames\u001b[39m\u001b[38;5;124m\"\u001b[39m, \u001b[38;5;28;01mNone\u001b[39;00m))\n\u001b[0;32m    610\u001b[0m \u001b[38;5;66;03m# Create the parser.\u001b[39;00m\n\u001b[1;32m--> 611\u001b[0m parser \u001b[38;5;241m=\u001b[39m TextFileReader(filepath_or_buffer, \u001b[38;5;241m*\u001b[39m\u001b[38;5;241m*\u001b[39mkwds)\n\u001b[0;32m    613\u001b[0m \u001b[38;5;28;01mif\u001b[39;00m chunksize \u001b[38;5;129;01mor\u001b[39;00m iterator:\n\u001b[0;32m    614\u001b[0m     \u001b[38;5;28;01mreturn\u001b[39;00m parser\n",
      "File \u001b[1;32m~\\anaconda3\\Lib\\site-packages\\pandas\\io\\parsers\\readers.py:1448\u001b[0m, in \u001b[0;36mTextFileReader.__init__\u001b[1;34m(self, f, engine, **kwds)\u001b[0m\n\u001b[0;32m   1445\u001b[0m     \u001b[38;5;28mself\u001b[39m\u001b[38;5;241m.\u001b[39moptions[\u001b[38;5;124m\"\u001b[39m\u001b[38;5;124mhas_index_names\u001b[39m\u001b[38;5;124m\"\u001b[39m] \u001b[38;5;241m=\u001b[39m kwds[\u001b[38;5;124m\"\u001b[39m\u001b[38;5;124mhas_index_names\u001b[39m\u001b[38;5;124m\"\u001b[39m]\n\u001b[0;32m   1447\u001b[0m \u001b[38;5;28mself\u001b[39m\u001b[38;5;241m.\u001b[39mhandles: IOHandles \u001b[38;5;241m|\u001b[39m \u001b[38;5;28;01mNone\u001b[39;00m \u001b[38;5;241m=\u001b[39m \u001b[38;5;28;01mNone\u001b[39;00m\n\u001b[1;32m-> 1448\u001b[0m \u001b[38;5;28mself\u001b[39m\u001b[38;5;241m.\u001b[39m_engine \u001b[38;5;241m=\u001b[39m \u001b[38;5;28mself\u001b[39m\u001b[38;5;241m.\u001b[39m_make_engine(f, \u001b[38;5;28mself\u001b[39m\u001b[38;5;241m.\u001b[39mengine)\n",
      "File \u001b[1;32m~\\anaconda3\\Lib\\site-packages\\pandas\\io\\parsers\\readers.py:1705\u001b[0m, in \u001b[0;36mTextFileReader._make_engine\u001b[1;34m(self, f, engine)\u001b[0m\n\u001b[0;32m   1703\u001b[0m     \u001b[38;5;28;01mif\u001b[39;00m \u001b[38;5;124m\"\u001b[39m\u001b[38;5;124mb\u001b[39m\u001b[38;5;124m\"\u001b[39m \u001b[38;5;129;01mnot\u001b[39;00m \u001b[38;5;129;01min\u001b[39;00m mode:\n\u001b[0;32m   1704\u001b[0m         mode \u001b[38;5;241m+\u001b[39m\u001b[38;5;241m=\u001b[39m \u001b[38;5;124m\"\u001b[39m\u001b[38;5;124mb\u001b[39m\u001b[38;5;124m\"\u001b[39m\n\u001b[1;32m-> 1705\u001b[0m \u001b[38;5;28mself\u001b[39m\u001b[38;5;241m.\u001b[39mhandles \u001b[38;5;241m=\u001b[39m get_handle(\n\u001b[0;32m   1706\u001b[0m     f,\n\u001b[0;32m   1707\u001b[0m     mode,\n\u001b[0;32m   1708\u001b[0m     encoding\u001b[38;5;241m=\u001b[39m\u001b[38;5;28mself\u001b[39m\u001b[38;5;241m.\u001b[39moptions\u001b[38;5;241m.\u001b[39mget(\u001b[38;5;124m\"\u001b[39m\u001b[38;5;124mencoding\u001b[39m\u001b[38;5;124m\"\u001b[39m, \u001b[38;5;28;01mNone\u001b[39;00m),\n\u001b[0;32m   1709\u001b[0m     compression\u001b[38;5;241m=\u001b[39m\u001b[38;5;28mself\u001b[39m\u001b[38;5;241m.\u001b[39moptions\u001b[38;5;241m.\u001b[39mget(\u001b[38;5;124m\"\u001b[39m\u001b[38;5;124mcompression\u001b[39m\u001b[38;5;124m\"\u001b[39m, \u001b[38;5;28;01mNone\u001b[39;00m),\n\u001b[0;32m   1710\u001b[0m     memory_map\u001b[38;5;241m=\u001b[39m\u001b[38;5;28mself\u001b[39m\u001b[38;5;241m.\u001b[39moptions\u001b[38;5;241m.\u001b[39mget(\u001b[38;5;124m\"\u001b[39m\u001b[38;5;124mmemory_map\u001b[39m\u001b[38;5;124m\"\u001b[39m, \u001b[38;5;28;01mFalse\u001b[39;00m),\n\u001b[0;32m   1711\u001b[0m     is_text\u001b[38;5;241m=\u001b[39mis_text,\n\u001b[0;32m   1712\u001b[0m     errors\u001b[38;5;241m=\u001b[39m\u001b[38;5;28mself\u001b[39m\u001b[38;5;241m.\u001b[39moptions\u001b[38;5;241m.\u001b[39mget(\u001b[38;5;124m\"\u001b[39m\u001b[38;5;124mencoding_errors\u001b[39m\u001b[38;5;124m\"\u001b[39m, \u001b[38;5;124m\"\u001b[39m\u001b[38;5;124mstrict\u001b[39m\u001b[38;5;124m\"\u001b[39m),\n\u001b[0;32m   1713\u001b[0m     storage_options\u001b[38;5;241m=\u001b[39m\u001b[38;5;28mself\u001b[39m\u001b[38;5;241m.\u001b[39moptions\u001b[38;5;241m.\u001b[39mget(\u001b[38;5;124m\"\u001b[39m\u001b[38;5;124mstorage_options\u001b[39m\u001b[38;5;124m\"\u001b[39m, \u001b[38;5;28;01mNone\u001b[39;00m),\n\u001b[0;32m   1714\u001b[0m )\n\u001b[0;32m   1715\u001b[0m \u001b[38;5;28;01massert\u001b[39;00m \u001b[38;5;28mself\u001b[39m\u001b[38;5;241m.\u001b[39mhandles \u001b[38;5;129;01mis\u001b[39;00m \u001b[38;5;129;01mnot\u001b[39;00m \u001b[38;5;28;01mNone\u001b[39;00m\n\u001b[0;32m   1716\u001b[0m f \u001b[38;5;241m=\u001b[39m \u001b[38;5;28mself\u001b[39m\u001b[38;5;241m.\u001b[39mhandles\u001b[38;5;241m.\u001b[39mhandle\n",
      "File \u001b[1;32m~\\anaconda3\\Lib\\site-packages\\pandas\\io\\common.py:863\u001b[0m, in \u001b[0;36mget_handle\u001b[1;34m(path_or_buf, mode, encoding, compression, memory_map, is_text, errors, storage_options)\u001b[0m\n\u001b[0;32m    858\u001b[0m \u001b[38;5;28;01melif\u001b[39;00m \u001b[38;5;28misinstance\u001b[39m(handle, \u001b[38;5;28mstr\u001b[39m):\n\u001b[0;32m    859\u001b[0m     \u001b[38;5;66;03m# Check whether the filename is to be opened in binary mode.\u001b[39;00m\n\u001b[0;32m    860\u001b[0m     \u001b[38;5;66;03m# Binary mode does not support 'encoding' and 'newline'.\u001b[39;00m\n\u001b[0;32m    861\u001b[0m     \u001b[38;5;28;01mif\u001b[39;00m ioargs\u001b[38;5;241m.\u001b[39mencoding \u001b[38;5;129;01mand\u001b[39;00m \u001b[38;5;124m\"\u001b[39m\u001b[38;5;124mb\u001b[39m\u001b[38;5;124m\"\u001b[39m \u001b[38;5;129;01mnot\u001b[39;00m \u001b[38;5;129;01min\u001b[39;00m ioargs\u001b[38;5;241m.\u001b[39mmode:\n\u001b[0;32m    862\u001b[0m         \u001b[38;5;66;03m# Encoding\u001b[39;00m\n\u001b[1;32m--> 863\u001b[0m         handle \u001b[38;5;241m=\u001b[39m \u001b[38;5;28mopen\u001b[39m(\n\u001b[0;32m    864\u001b[0m             handle,\n\u001b[0;32m    865\u001b[0m             ioargs\u001b[38;5;241m.\u001b[39mmode,\n\u001b[0;32m    866\u001b[0m             encoding\u001b[38;5;241m=\u001b[39mioargs\u001b[38;5;241m.\u001b[39mencoding,\n\u001b[0;32m    867\u001b[0m             errors\u001b[38;5;241m=\u001b[39merrors,\n\u001b[0;32m    868\u001b[0m             newline\u001b[38;5;241m=\u001b[39m\u001b[38;5;124m\"\u001b[39m\u001b[38;5;124m\"\u001b[39m,\n\u001b[0;32m    869\u001b[0m         )\n\u001b[0;32m    870\u001b[0m     \u001b[38;5;28;01melse\u001b[39;00m:\n\u001b[0;32m    871\u001b[0m         \u001b[38;5;66;03m# Binary mode\u001b[39;00m\n\u001b[0;32m    872\u001b[0m         handle \u001b[38;5;241m=\u001b[39m \u001b[38;5;28mopen\u001b[39m(handle, ioargs\u001b[38;5;241m.\u001b[39mmode)\n",
      "\u001b[1;31mFileNotFoundError\u001b[0m: [Errno 2] No such file or directory: 'test.csv'"
     ]
    }
   ],
   "source": [
    "#classify test data\n",
    "dftest = pd.read_csv('test.csv', usecols = df.columns).reindex(columns = df.columns)\n",
    "\n",
    "\n",
    "ypred_test = predict(model, dftest)\n",
    "\n",
    "threshold = thresh[argTr]\n",
    "ycls = ypred_test > threshold\n",
    "ycls = [1 if i else 0 for i in ycls]\n",
    "#save ROC,AUC and fbeta curve to disk\n",
    "file = open('build/BdtPRC.txt', 'w')\n",
    "file.write('#Precision Recal\\n')\n",
    "for f, t,b in zip(prec[:-1], rec[:-1], fb):\n",
    "    file.write(f'{f} {t} {b}\\n')\n",
    "file.close()\n",
    "#save predictions\n",
    "file = open('build/BdtClassified.txt', 'w')\n",
    "file.write('#label\\n')\n",
    "for f in ycls:\n",
    "    file.write(f'{f}\\n')\n",
    "file.close()"
   ]
  },
  {
   "cell_type": "code",
   "execution_count": 22,
   "id": "14c07964-4f13-4502-b157-328eb011a57f",
   "metadata": {},
   "outputs": [],
   "source": [
    "cols = Xtrain.columns"
   ]
  },
  {
   "cell_type": "code",
   "execution_count": 23,
   "id": "753991f5-5fb7-4104-8357-ef592e12009d",
   "metadata": {},
   "outputs": [],
   "source": [
    "from sklearn.preprocessing import RobustScaler\n",
    "\n",
    "scaler = RobustScaler()\n",
    "Xtrain = scaler.fit_transform(Xtrain)\n",
    "Xtest = scaler.transform(Xtest)"
   ]
  },
  {
   "cell_type": "code",
   "execution_count": 24,
   "id": "7557357c-b383-40aa-b4c6-9fb38da2e025",
   "metadata": {},
   "outputs": [
    {
     "data": {
      "text/html": [
       "<div>\n",
       "<style scoped>\n",
       "    .dataframe tbody tr th:only-of-type {\n",
       "        vertical-align: middle;\n",
       "    }\n",
       "\n",
       "    .dataframe tbody tr th {\n",
       "        vertical-align: top;\n",
       "    }\n",
       "\n",
       "    .dataframe thead tr th {\n",
       "        text-align: left;\n",
       "    }\n",
       "</style>\n",
       "<table border=\"1\" class=\"dataframe\">\n",
       "  <thead>\n",
       "    <tr>\n",
       "      <th></th>\n",
       "      <th>Unnamed: 0</th>\n",
       "      <th>LineFit_TTParams.lf_vel_z</th>\n",
       "      <th>HitStatisticsValues.max_pulse_time</th>\n",
       "      <th>SplineMPEFitParams.rlogl</th>\n",
       "      <th>HitStatisticsValues.z_travel</th>\n",
       "      <th>SplineMPEDirectHitsA.n_dir_strings</th>\n",
       "      <th>LineFit_TT.zenith</th>\n",
       "      <th>NewAtt.DeltaZd</th>\n",
       "      <th>MuEXAngular4.zenith</th>\n",
       "      <th>NewAtt.SplineVerRadius</th>\n",
       "      <th>...</th>\n",
       "      <th>MPEFitParaboloid.zenith</th>\n",
       "      <th>SplineMPETruncatedEnergy_SPICEMie_AllBINS_MuEres.value</th>\n",
       "      <th>MPEFitParaboloidFitParams.zenith</th>\n",
       "      <th>SplineMPETruncatedEnergy_SPICEMie_AllDOMS_MuEres.value</th>\n",
       "      <th>SPEFit2Bayesian.z</th>\n",
       "      <th>SplineMPECharacteristics.track_hits_separation_length</th>\n",
       "      <th>SplineMPEDirectHitsC.n_dir_doms</th>\n",
       "      <th>LineFit_TTParams.lf_vel</th>\n",
       "      <th>HitStatisticsValues.z_min</th>\n",
       "      <th>MPEFitParaboloidFitParams.err1</th>\n",
       "    </tr>\n",
       "  </thead>\n",
       "  <tbody>\n",
       "    <tr>\n",
       "      <th>0</th>\n",
       "      <td>0.753207</td>\n",
       "      <td>-0.211006</td>\n",
       "      <td>0.553749</td>\n",
       "      <td>-0.364900</td>\n",
       "      <td>-0.085456</td>\n",
       "      <td>0.0</td>\n",
       "      <td>-0.228440</td>\n",
       "      <td>-0.100315</td>\n",
       "      <td>-0.333659</td>\n",
       "      <td>-0.136844</td>\n",
       "      <td>...</td>\n",
       "      <td>-0.371632</td>\n",
       "      <td>0.000000</td>\n",
       "      <td>-0.372094</td>\n",
       "      <td>0.194269</td>\n",
       "      <td>-0.659798</td>\n",
       "      <td>0.196943</td>\n",
       "      <td>0.2</td>\n",
       "      <td>-1.143930</td>\n",
       "      <td>-0.610436</td>\n",
       "      <td>0.277687</td>\n",
       "    </tr>\n",
       "    <tr>\n",
       "      <th>1</th>\n",
       "      <td>0.170434</td>\n",
       "      <td>1.246301</td>\n",
       "      <td>1.177210</td>\n",
       "      <td>-1.053680</td>\n",
       "      <td>2.334947</td>\n",
       "      <td>0.5</td>\n",
       "      <td>1.136484</td>\n",
       "      <td>-0.553095</td>\n",
       "      <td>1.167480</td>\n",
       "      <td>0.096505</td>\n",
       "      <td>...</td>\n",
       "      <td>1.144856</td>\n",
       "      <td>-1.155314</td>\n",
       "      <td>1.145065</td>\n",
       "      <td>-1.132757</td>\n",
       "      <td>-0.427227</td>\n",
       "      <td>2.195902</td>\n",
       "      <td>2.6</td>\n",
       "      <td>0.448321</td>\n",
       "      <td>-0.607332</td>\n",
       "      <td>-0.698622</td>\n",
       "    </tr>\n",
       "    <tr>\n",
       "      <th>2</th>\n",
       "      <td>-0.463986</td>\n",
       "      <td>0.463925</td>\n",
       "      <td>-0.814734</td>\n",
       "      <td>0.354406</td>\n",
       "      <td>0.495084</td>\n",
       "      <td>0.5</td>\n",
       "      <td>0.403475</td>\n",
       "      <td>0.117169</td>\n",
       "      <td>0.277958</td>\n",
       "      <td>0.426383</td>\n",
       "      <td>...</td>\n",
       "      <td>0.281269</td>\n",
       "      <td>0.613575</td>\n",
       "      <td>0.281095</td>\n",
       "      <td>-0.170974</td>\n",
       "      <td>0.516773</td>\n",
       "      <td>-0.021439</td>\n",
       "      <td>-0.4</td>\n",
       "      <td>-0.067697</td>\n",
       "      <td>0.541460</td>\n",
       "      <td>0.194762</td>\n",
       "    </tr>\n",
       "    <tr>\n",
       "      <th>3</th>\n",
       "      <td>0.972899</td>\n",
       "      <td>-0.469679</td>\n",
       "      <td>-1.036950</td>\n",
       "      <td>0.645449</td>\n",
       "      <td>-0.412398</td>\n",
       "      <td>0.0</td>\n",
       "      <td>-0.425303</td>\n",
       "      <td>0.320919</td>\n",
       "      <td>-0.389456</td>\n",
       "      <td>0.504938</td>\n",
       "      <td>...</td>\n",
       "      <td>-0.355249</td>\n",
       "      <td>0.000000</td>\n",
       "      <td>-0.355704</td>\n",
       "      <td>0.417655</td>\n",
       "      <td>0.576288</td>\n",
       "      <td>0.624686</td>\n",
       "      <td>-0.6</td>\n",
       "      <td>0.646970</td>\n",
       "      <td>0.585173</td>\n",
       "      <td>0.017439</td>\n",
       "    </tr>\n",
       "    <tr>\n",
       "      <th>4</th>\n",
       "      <td>-0.651025</td>\n",
       "      <td>0.224673</td>\n",
       "      <td>0.366071</td>\n",
       "      <td>-0.449557</td>\n",
       "      <td>0.527897</td>\n",
       "      <td>1.0</td>\n",
       "      <td>0.133452</td>\n",
       "      <td>-0.495445</td>\n",
       "      <td>0.081970</td>\n",
       "      <td>-1.163848</td>\n",
       "      <td>...</td>\n",
       "      <td>0.087866</td>\n",
       "      <td>-0.862901</td>\n",
       "      <td>0.087606</td>\n",
       "      <td>-0.977443</td>\n",
       "      <td>0.019231</td>\n",
       "      <td>1.180383</td>\n",
       "      <td>0.8</td>\n",
       "      <td>0.508021</td>\n",
       "      <td>0.077047</td>\n",
       "      <td>-0.660584</td>\n",
       "    </tr>\n",
       "  </tbody>\n",
       "</table>\n",
       "<p>5 rows × 34 columns</p>\n",
       "</div>"
      ],
      "text/plain": [
       "  Unnamed: 0 LineFit_TTParams.lf_vel_z HitStatisticsValues.max_pulse_time  \\\n",
       "0   0.753207                 -0.211006                           0.553749   \n",
       "1   0.170434                  1.246301                           1.177210   \n",
       "2  -0.463986                  0.463925                          -0.814734   \n",
       "3   0.972899                 -0.469679                          -1.036950   \n",
       "4  -0.651025                  0.224673                           0.366071   \n",
       "\n",
       "  SplineMPEFitParams.rlogl HitStatisticsValues.z_travel  \\\n",
       "0                -0.364900                    -0.085456   \n",
       "1                -1.053680                     2.334947   \n",
       "2                 0.354406                     0.495084   \n",
       "3                 0.645449                    -0.412398   \n",
       "4                -0.449557                     0.527897   \n",
       "\n",
       "  SplineMPEDirectHitsA.n_dir_strings LineFit_TT.zenith NewAtt.DeltaZd  \\\n",
       "0                                0.0         -0.228440      -0.100315   \n",
       "1                                0.5          1.136484      -0.553095   \n",
       "2                                0.5          0.403475       0.117169   \n",
       "3                                0.0         -0.425303       0.320919   \n",
       "4                                1.0          0.133452      -0.495445   \n",
       "\n",
       "  MuEXAngular4.zenith NewAtt.SplineVerRadius  ... MPEFitParaboloid.zenith  \\\n",
       "0           -0.333659              -0.136844  ...               -0.371632   \n",
       "1            1.167480               0.096505  ...                1.144856   \n",
       "2            0.277958               0.426383  ...                0.281269   \n",
       "3           -0.389456               0.504938  ...               -0.355249   \n",
       "4            0.081970              -1.163848  ...                0.087866   \n",
       "\n",
       "  SplineMPETruncatedEnergy_SPICEMie_AllBINS_MuEres.value  \\\n",
       "0                                           0.000000       \n",
       "1                                          -1.155314       \n",
       "2                                           0.613575       \n",
       "3                                           0.000000       \n",
       "4                                          -0.862901       \n",
       "\n",
       "  MPEFitParaboloidFitParams.zenith  \\\n",
       "0                        -0.372094   \n",
       "1                         1.145065   \n",
       "2                         0.281095   \n",
       "3                        -0.355704   \n",
       "4                         0.087606   \n",
       "\n",
       "  SplineMPETruncatedEnergy_SPICEMie_AllDOMS_MuEres.value SPEFit2Bayesian.z  \\\n",
       "0                                           0.194269             -0.659798   \n",
       "1                                          -1.132757             -0.427227   \n",
       "2                                          -0.170974              0.516773   \n",
       "3                                           0.417655              0.576288   \n",
       "4                                          -0.977443              0.019231   \n",
       "\n",
       "  SplineMPECharacteristics.track_hits_separation_length  \\\n",
       "0                                           0.196943      \n",
       "1                                           2.195902      \n",
       "2                                          -0.021439      \n",
       "3                                           0.624686      \n",
       "4                                           1.180383      \n",
       "\n",
       "  SplineMPEDirectHitsC.n_dir_doms LineFit_TTParams.lf_vel  \\\n",
       "0                             0.2               -1.143930   \n",
       "1                             2.6                0.448321   \n",
       "2                            -0.4               -0.067697   \n",
       "3                            -0.6                0.646970   \n",
       "4                             0.8                0.508021   \n",
       "\n",
       "  HitStatisticsValues.z_min MPEFitParaboloidFitParams.err1  \n",
       "0                 -0.610436                       0.277687  \n",
       "1                 -0.607332                      -0.698622  \n",
       "2                  0.541460                       0.194762  \n",
       "3                  0.585173                       0.017439  \n",
       "4                  0.077047                      -0.660584  \n",
       "\n",
       "[5 rows x 34 columns]"
      ]
     },
     "execution_count": 24,
     "metadata": {},
     "output_type": "execute_result"
    }
   ],
   "source": [
    "Xtrain = pd.DataFrame(Xtrain, columns=[cols])\n",
    "Xtest = pd.DataFrame(Xtest, columns=[cols])\n",
    "Xtrain.head()"
   ]
  },
  {
   "cell_type": "code",
   "execution_count": 25,
   "id": "449b0a32-6a99-43d4-947c-c77e71d6ff66",
   "metadata": {},
   "outputs": [
    {
     "data": {
      "text/html": [
       "<style>#sk-container-id-1 {color: black;background-color: white;}#sk-container-id-1 pre{padding: 0;}#sk-container-id-1 div.sk-toggleable {background-color: white;}#sk-container-id-1 label.sk-toggleable__label {cursor: pointer;display: block;width: 100%;margin-bottom: 0;padding: 0.3em;box-sizing: border-box;text-align: center;}#sk-container-id-1 label.sk-toggleable__label-arrow:before {content: \"▸\";float: left;margin-right: 0.25em;color: #696969;}#sk-container-id-1 label.sk-toggleable__label-arrow:hover:before {color: black;}#sk-container-id-1 div.sk-estimator:hover label.sk-toggleable__label-arrow:before {color: black;}#sk-container-id-1 div.sk-toggleable__content {max-height: 0;max-width: 0;overflow: hidden;text-align: left;background-color: #f0f8ff;}#sk-container-id-1 div.sk-toggleable__content pre {margin: 0.2em;color: black;border-radius: 0.25em;background-color: #f0f8ff;}#sk-container-id-1 input.sk-toggleable__control:checked~div.sk-toggleable__content {max-height: 200px;max-width: 100%;overflow: auto;}#sk-container-id-1 input.sk-toggleable__control:checked~label.sk-toggleable__label-arrow:before {content: \"▾\";}#sk-container-id-1 div.sk-estimator input.sk-toggleable__control:checked~label.sk-toggleable__label {background-color: #d4ebff;}#sk-container-id-1 div.sk-label input.sk-toggleable__control:checked~label.sk-toggleable__label {background-color: #d4ebff;}#sk-container-id-1 input.sk-hidden--visually {border: 0;clip: rect(1px 1px 1px 1px);clip: rect(1px, 1px, 1px, 1px);height: 1px;margin: -1px;overflow: hidden;padding: 0;position: absolute;width: 1px;}#sk-container-id-1 div.sk-estimator {font-family: monospace;background-color: #f0f8ff;border: 1px dotted black;border-radius: 0.25em;box-sizing: border-box;margin-bottom: 0.5em;}#sk-container-id-1 div.sk-estimator:hover {background-color: #d4ebff;}#sk-container-id-1 div.sk-parallel-item::after {content: \"\";width: 100%;border-bottom: 1px solid gray;flex-grow: 1;}#sk-container-id-1 div.sk-label:hover label.sk-toggleable__label {background-color: #d4ebff;}#sk-container-id-1 div.sk-serial::before {content: \"\";position: absolute;border-left: 1px solid gray;box-sizing: border-box;top: 0;bottom: 0;left: 50%;z-index: 0;}#sk-container-id-1 div.sk-serial {display: flex;flex-direction: column;align-items: center;background-color: white;padding-right: 0.2em;padding-left: 0.2em;position: relative;}#sk-container-id-1 div.sk-item {position: relative;z-index: 1;}#sk-container-id-1 div.sk-parallel {display: flex;align-items: stretch;justify-content: center;background-color: white;position: relative;}#sk-container-id-1 div.sk-item::before, #sk-container-id-1 div.sk-parallel-item::before {content: \"\";position: absolute;border-left: 1px solid gray;box-sizing: border-box;top: 0;bottom: 0;left: 50%;z-index: -1;}#sk-container-id-1 div.sk-parallel-item {display: flex;flex-direction: column;z-index: 1;position: relative;background-color: white;}#sk-container-id-1 div.sk-parallel-item:first-child::after {align-self: flex-end;width: 50%;}#sk-container-id-1 div.sk-parallel-item:last-child::after {align-self: flex-start;width: 50%;}#sk-container-id-1 div.sk-parallel-item:only-child::after {width: 0;}#sk-container-id-1 div.sk-dashed-wrapped {border: 1px dashed gray;margin: 0 0.4em 0.5em 0.4em;box-sizing: border-box;padding-bottom: 0.4em;background-color: white;}#sk-container-id-1 div.sk-label label {font-family: monospace;font-weight: bold;display: inline-block;line-height: 1.2em;}#sk-container-id-1 div.sk-label-container {text-align: center;}#sk-container-id-1 div.sk-container {/* jupyter's `normalize.less` sets `[hidden] { display: none; }` but bootstrap.min.css set `[hidden] { display: none !important; }` so we also need the `!important` here to be able to override the default hidden behavior on the sphinx rendered scikit-learn.org. See: https://github.com/scikit-learn/scikit-learn/issues/21755 */display: inline-block !important;position: relative;}#sk-container-id-1 div.sk-text-repr-fallback {display: none;}</style><div id=\"sk-container-id-1\" class=\"sk-top-container\"><div class=\"sk-text-repr-fallback\"><pre>GaussianNB()</pre><b>In a Jupyter environment, please rerun this cell to show the HTML representation or trust the notebook. <br />On GitHub, the HTML representation is unable to render, please try loading this page with nbviewer.org.</b></div><div class=\"sk-container\" hidden><div class=\"sk-item\"><div class=\"sk-estimator sk-toggleable\"><input class=\"sk-toggleable__control sk-hidden--visually\" id=\"sk-estimator-id-1\" type=\"checkbox\" checked><label for=\"sk-estimator-id-1\" class=\"sk-toggleable__label sk-toggleable__label-arrow\">GaussianNB</label><div class=\"sk-toggleable__content\"><pre>GaussianNB()</pre></div></div></div></div></div>"
      ],
      "text/plain": [
       "GaussianNB()"
      ]
     },
     "execution_count": 25,
     "metadata": {},
     "output_type": "execute_result"
    }
   ],
   "source": [
    "from sklearn.naive_bayes import GaussianNB\n",
    "\n",
    "gnb = GaussianNB()\n",
    "gnb.fit(Xtrain, ytrain)"
   ]
  },
  {
   "cell_type": "code",
   "execution_count": 26,
   "id": "fc067d1c-5006-4e9c-b015-e724ff5c979a",
   "metadata": {},
   "outputs": [
    {
     "data": {
      "text/plain": [
       "array([0, 1, 1, ..., 1, 1, 1], dtype=int64)"
      ]
     },
     "execution_count": 26,
     "metadata": {},
     "output_type": "execute_result"
    }
   ],
   "source": [
    "ypred = gnb.predict(Xtest)\n",
    "\n",
    "ypred"
   ]
  },
  {
   "cell_type": "code",
   "execution_count": 27,
   "id": "0e12075c-5de4-40e6-bb8a-f370805fdc7f",
   "metadata": {},
   "outputs": [
    {
     "name": "stdout",
     "output_type": "stream",
     "text": [
      "Model accuracy score: 0.8391\n"
     ]
    }
   ],
   "source": [
    "from sklearn.metrics import accuracy_score\n",
    "\n",
    "print('Model accuracy score: {0:0.4f}'. format(accuracy_score(ytest, ypred)))"
   ]
  },
  {
   "cell_type": "code",
   "execution_count": 28,
   "id": "f562d7d8-9e93-442a-b270-56eb9a80e262",
   "metadata": {},
   "outputs": [
    {
     "data": {
      "text/plain": [
       "array([0, 1, 0, ..., 1, 0, 0], dtype=int64)"
      ]
     },
     "execution_count": 28,
     "metadata": {},
     "output_type": "execute_result"
    }
   ],
   "source": [
    "ypredtrain = gnb.predict(Xtrain)\n",
    "\n",
    "ypredtrain"
   ]
  },
  {
   "cell_type": "code",
   "execution_count": 29,
   "id": "8a339185-ebc6-4d39-8b38-d090b46aca3f",
   "metadata": {},
   "outputs": [
    {
     "name": "stdout",
     "output_type": "stream",
     "text": [
      "Training-set accuracy score: 0.8328\n"
     ]
    }
   ],
   "source": [
    "print('Training-set accuracy score: {0:0.4f}'. format(accuracy_score(ytrain, ypredtrain)))"
   ]
  },
  {
   "cell_type": "code",
   "execution_count": 30,
   "id": "f47c4094-716c-4531-b577-c46f40a00a21",
   "metadata": {},
   "outputs": [
    {
     "name": "stdout",
     "output_type": "stream",
     "text": [
      "Training set score: 0.8328\n",
      "Test set score: 0.8391\n"
     ]
    }
   ],
   "source": [
    "print('Training set score: {:.4f}'.format(gnb.score(Xtrain, ytrain)))\n",
    "\n",
    "print('Test set score: {:.4f}'.format(gnb.score(Xtest, ytest)))"
   ]
  },
  {
   "cell_type": "code",
   "execution_count": 31,
   "id": "21b4a4fc-4dc0-4e25-9262-eb757ffc49bb",
   "metadata": {},
   "outputs": [
    {
     "data": {
      "text/plain": [
       "label\n",
       "1    5355\n",
       "0    5341\n",
       "Name: count, dtype: int64"
      ]
     },
     "execution_count": 31,
     "metadata": {},
     "output_type": "execute_result"
    }
   ],
   "source": [
    "ytest.value_counts()"
   ]
  },
  {
   "cell_type": "code",
   "execution_count": 39,
   "id": "c022541c-67ed-413c-8392-98c58ae0bad2",
   "metadata": {},
   "outputs": [
    {
     "name": "stdout",
     "output_type": "stream",
     "text": [
      "Confusion matrix\n",
      "\n",
      " [[4816  525]\n",
      " [1196 4159]]\n",
      "\n",
      "Background(Actual) =  4816\n",
      "\n",
      "Signal(Predicted) =  4159\n",
      "\n",
      "Background(Predicted) =  525\n",
      "\n",
      "Signal(Actual) =  1196\n"
     ]
    }
   ],
   "source": [
    "from sklearn.metrics import confusion_matrix\n",
    "\n",
    "cm = confusion_matrix(ytest, ypred)\n",
    "\n",
    "print('Confusion matrix\\n\\n', cm)\n",
    "\n",
    "print('\\nBackground(Actual) = ', cm[0,0])\n",
    "\n",
    "print('\\nSignal(Predicted) = ', cm[1,1])\n",
    "\n",
    "print('\\nBackground(Predicted) = ', cm[0,1])\n",
    "\n",
    "print('\\nSignal(Actual) = ', cm[1,0])"
   ]
  },
  {
   "cell_type": "code",
   "execution_count": 40,
   "id": "2b2a871a-07ad-452b-8ae6-31630cc6fd64",
   "metadata": {},
   "outputs": [
    {
     "data": {
      "text/plain": [
       "<Axes: >"
      ]
     },
     "execution_count": 40,
     "metadata": {},
     "output_type": "execute_result"
    },
    {
     "data": {
      "image/png": "[encoded data removed]",
      "text/plain": [
       "<Figure size 640x480 with 2 Axes>"
      ]
     },
     "metadata": {},
     "output_type": "display_data"
    }
   ],
   "source": [
    "import seaborn as sns\n",
    "cm_matrix = pd.DataFrame(data=cm, columns=['Background', 'Signal'], \n",
    "                                 index=['Background', 'Signal'])\n",
    "\n",
    "sns.heatmap(cm_matrix, annot=True, fmt='d', cmap='YlGnBu')"
   ]
  },
  {
   "cell_type": "code",
   "execution_count": 42,
   "id": "bdd2cc65-f339-4cbe-b766-ab89b6708ef8",
   "metadata": {},
   "outputs": [
    {
     "name": "stdout",
     "output_type": "stream",
     "text": [
      "              precision    recall  f1-score   support\n",
      "\n",
      "           0       0.80      0.90      0.85      5341\n",
      "           1       0.89      0.78      0.83      5355\n",
      "\n",
      "    accuracy                           0.84     10696\n",
      "   macro avg       0.84      0.84      0.84     10696\n",
      "weighted avg       0.84      0.84      0.84     10696\n",
      "\n"
     ]
    }
   ],
   "source": [
    "from sklearn.metrics import classification_report\n",
    "\n",
    "print(classification_report(ytest, ypred))"
   ]
  },
  {
   "cell_type": "code",
   "execution_count": 43,
   "id": "5063ce0b-2b26-4696-9605-dfe706fb8ba7",
   "metadata": {},
   "outputs": [],
   "source": [
    "TP = cm[0,0]\n",
    "TN = cm[1,1]\n",
    "FP = cm[0,1]\n",
    "FN = cm[1,0]"
   ]
  },
  {
   "cell_type": "code",
   "execution_count": 44,
   "id": "366397f9-ca1e-437b-9e37-d2e41d5d42db",
   "metadata": {},
   "outputs": [
    {
     "name": "stdout",
     "output_type": "stream",
     "text": [
      "Classification accuracy : 0.8391\n"
     ]
    }
   ],
   "source": [
    "classification_accuracy = (TP + TN) / float(TP + TN + FP + FN)\n",
    "\n",
    "print('Classification accuracy : {0:0.4f}'.format(classification_accuracy))"
   ]
  },
  {
   "cell_type": "code",
   "execution_count": 47,
   "id": "5d359397-bfbf-494c-aaf2-2f0b01fbb782",
   "metadata": {},
   "outputs": [
    {
     "name": "stdout",
     "output_type": "stream",
     "text": [
      "Classification error : 0.1609\n"
     ]
    }
   ],
   "source": [
    "classification_error = (FP + FN) / float(TP + TN + FP + FN)\n",
    "\n",
    "print('Classification error : {0:0.4f}'.format(classification_error))"
   ]
  },
  {
   "cell_type": "code",
   "execution_count": 49,
   "id": "94f5acaf-be47-4bf1-b5bf-90ceb5c3c581",
   "metadata": {},
   "outputs": [
    {
     "name": "stdout",
     "output_type": "stream",
     "text": [
      "Precision : 0.9017\n"
     ]
    }
   ],
   "source": [
    "precision = TP / float(TP + FP)\n",
    "\n",
    "print('Precision : {0:0.4f}'.format(precision))"
   ]
  },
  {
   "cell_type": "code",
   "execution_count": 50,
   "id": "a747c8d1-3c46-4657-bfa8-67c5b6653711",
   "metadata": {},
   "outputs": [
    {
     "name": "stdout",
     "output_type": "stream",
     "text": [
      "Recall or Sensitivity : 0.8011\n"
     ]
    }
   ],
   "source": [
    "recall = TP / float(TP + FN)\n",
    "\n",
    "print('Recall or Sensitivity : {0:0.4f}'.format(recall))"
   ]
  },
  {
   "cell_type": "code",
   "execution_count": 69,
   "id": "21aa4792-3848-4f78-9e21-c12a7f59cc1c",
   "metadata": {},
   "outputs": [
    {
     "data": {
      "text/html": [
       "<style>#sk-container-id-3 {color: black;background-color: white;}#sk-container-id-3 pre{padding: 0;}#sk-container-id-3 div.sk-toggleable {background-color: white;}#sk-container-id-3 label.sk-toggleable__label {cursor: pointer;display: block;width: 100%;margin-bottom: 0;padding: 0.3em;box-sizing: border-box;text-align: center;}#sk-container-id-3 label.sk-toggleable__label-arrow:before {content: \"▸\";float: left;margin-right: 0.25em;color: #696969;}#sk-container-id-3 label.sk-toggleable__label-arrow:hover:before {color: black;}#sk-container-id-3 div.sk-estimator:hover label.sk-toggleable__label-arrow:before {color: black;}#sk-container-id-3 div.sk-toggleable__content {max-height: 0;max-width: 0;overflow: hidden;text-align: left;background-color: #f0f8ff;}#sk-container-id-3 div.sk-toggleable__content pre {margin: 0.2em;color: black;border-radius: 0.25em;background-color: #f0f8ff;}#sk-container-id-3 input.sk-toggleable__control:checked~div.sk-toggleable__content {max-height: 200px;max-width: 100%;overflow: auto;}#sk-container-id-3 input.sk-toggleable__control:checked~label.sk-toggleable__label-arrow:before {content: \"▾\";}#sk-container-id-3 div.sk-estimator input.sk-toggleable__control:checked~label.sk-toggleable__label {background-color: #d4ebff;}#sk-container-id-3 div.sk-label input.sk-toggleable__control:checked~label.sk-toggleable__label {background-color: #d4ebff;}#sk-container-id-3 input.sk-hidden--visually {border: 0;clip: rect(1px 1px 1px 1px);clip: rect(1px, 1px, 1px, 1px);height: 1px;margin: -1px;overflow: hidden;padding: 0;position: absolute;width: 1px;}#sk-container-id-3 div.sk-estimator {font-family: monospace;background-color: #f0f8ff;border: 1px dotted black;border-radius: 0.25em;box-sizing: border-box;margin-bottom: 0.5em;}#sk-container-id-3 div.sk-estimator:hover {background-color: #d4ebff;}#sk-container-id-3 div.sk-parallel-item::after {content: \"\";width: 100%;border-bottom: 1px solid gray;flex-grow: 1;}#sk-container-id-3 div.sk-label:hover label.sk-toggleable__label {background-color: #d4ebff;}#sk-container-id-3 div.sk-serial::before {content: \"\";position: absolute;border-left: 1px solid gray;box-sizing: border-box;top: 0;bottom: 0;left: 50%;z-index: 0;}#sk-container-id-3 div.sk-serial {display: flex;flex-direction: column;align-items: center;background-color: white;padding-right: 0.2em;padding-left: 0.2em;position: relative;}#sk-container-id-3 div.sk-item {position: relative;z-index: 1;}#sk-container-id-3 div.sk-parallel {display: flex;align-items: stretch;justify-content: center;background-color: white;position: relative;}#sk-container-id-3 div.sk-item::before, #sk-container-id-3 div.sk-parallel-item::before {content: \"\";position: absolute;border-left: 1px solid gray;box-sizing: border-box;top: 0;bottom: 0;left: 50%;z-index: -1;}#sk-container-id-3 div.sk-parallel-item {display: flex;flex-direction: column;z-index: 1;position: relative;background-color: white;}#sk-container-id-3 div.sk-parallel-item:first-child::after {align-self: flex-end;width: 50%;}#sk-container-id-3 div.sk-parallel-item:last-child::after {align-self: flex-start;width: 50%;}#sk-container-id-3 div.sk-parallel-item:only-child::after {width: 0;}#sk-container-id-3 div.sk-dashed-wrapped {border: 1px dashed gray;margin: 0 0.4em 0.5em 0.4em;box-sizing: border-box;padding-bottom: 0.4em;background-color: white;}#sk-container-id-3 div.sk-label label {font-family: monospace;font-weight: bold;display: inline-block;line-height: 1.2em;}#sk-container-id-3 div.sk-label-container {text-align: center;}#sk-container-id-3 div.sk-container {/* jupyter's `normalize.less` sets `[hidden] { display: none; }` but bootstrap.min.css set `[hidden] { display: none !important; }` so we also need the `!important` here to be able to override the default hidden behavior on the sphinx rendered scikit-learn.org. See: https://github.com/scikit-learn/scikit-learn/issues/21755 */display: inline-block !important;position: relative;}#sk-container-id-3 div.sk-text-repr-fallback {display: none;}</style><div id=\"sk-container-id-3\" class=\"sk-top-container\"><div class=\"sk-text-repr-fallback\"><pre>KNeighborsClassifier(n_neighbors=3)</pre><b>In a Jupyter environment, please rerun this cell to show the HTML representation or trust the notebook. <br />On GitHub, the HTML representation is unable to render, please try loading this page with nbviewer.org.</b></div><div class=\"sk-container\" hidden><div class=\"sk-item\"><div class=\"sk-estimator sk-toggleable\"><input class=\"sk-toggleable__control sk-hidden--visually\" id=\"sk-estimator-id-3\" type=\"checkbox\" checked><label for=\"sk-estimator-id-3\" class=\"sk-toggleable__label sk-toggleable__label-arrow\">KNeighborsClassifier</label><div class=\"sk-toggleable__content\"><pre>KNeighborsClassifier(n_neighbors=3)</pre></div></div></div></div></div>"
      ],
      "text/plain": [
       "KNeighborsClassifier(n_neighbors=3)"
      ]
     },
     "execution_count": 69,
     "metadata": {},
     "output_type": "execute_result"
    }
   ],
   "source": [
    "from sklearn.neighbors import KNeighborsClassifier\n",
    "\n",
    "knn = KNeighborsClassifier(n_neighbors=3)\n",
    "knn.fit(Xtrain, ytrain)"
   ]
  },
  {
   "cell_type": "code",
   "execution_count": 71,
   "id": "bacf3a1e-8b47-41f7-a24d-55d9879eb6ac",
   "metadata": {},
   "outputs": [
    {
     "name": "stdout",
     "output_type": "stream",
     "text": [
      "Model accuracy score: 0.9426\n"
     ]
    }
   ],
   "source": [
    "from sklearn.metrics import accuracy_score\n",
    "\n",
    "print('Model accuracy score: {0:0.4f}'. format(accuracy_score(ytest, ypred2)))"
   ]
  },
  {
   "cell_type": "code",
   "execution_count": 57,
   "id": "063b3453-63b8-4729-93ad-365b9c6c4e80",
   "metadata": {},
   "outputs": [
    {
     "name": "stdout",
     "output_type": "stream",
     "text": [
      "Training-set accuracy score: 0.9655\n"
     ]
    }
   ],
   "source": [
    "ypred2train = knn.predict(Xtrain)\n",
    "print('Training-set accuracy score: {0:0.4f}'. format(accuracy_score(ytrain, ypred2train)))"
   ]
  },
  {
   "cell_type": "code",
   "execution_count": 59,
   "id": "d70b7776-deea-43b4-ab8e-5fc8a6bf8d47",
   "metadata": {},
   "outputs": [
    {
     "name": "stdout",
     "output_type": "stream",
     "text": [
      "Model accuracy score with k=5 : 0.9447\n"
     ]
    }
   ],
   "source": [
    "# the model with k=5\n",
    "knn5 = KNeighborsClassifier(n_neighbors=5)\n",
    "\n",
    "\n",
    "# fit the model to the training set\n",
    "knn5.fit(Xtrain, ytrain)\n",
    "\n",
    "\n",
    "# predict on the test-set\n",
    "ypred5 = knn5.predict(Xtest)\n",
    "\n",
    "\n",
    "print('Model accuracy score with k=5 : {0:0.4f}'. format(accuracy_score(ytest, ypred5)))"
   ]
  },
  {
   "cell_type": "code",
   "execution_count": 60,
   "id": "0b974003-dd45-40ed-ba6d-4f70e11638f0",
   "metadata": {},
   "outputs": [
    {
     "name": "stdout",
     "output_type": "stream",
     "text": [
      "Model accuracy score with k=6 : 0.9459\n"
     ]
    }
   ],
   "source": [
    "# the model with k=6\n",
    "knn6 = KNeighborsClassifier(n_neighbors=6)\n",
    "\n",
    "\n",
    "# fit the model to the training set\n",
    "knn6.fit(Xtrain, ytrain)\n",
    "\n",
    "\n",
    "# predict on the test-set\n",
    "ypred6 = knn6.predict(Xtest)\n",
    "\n",
    "\n",
    "print('Model accuracy score with k=6 : {0:0.4f}'. format(accuracy_score(ytest, ypred6)))"
   ]
  },
  {
   "cell_type": "code",
   "execution_count": 62,
   "id": "7e6520e7-1482-4675-a80a-51e5b84abdcf",
   "metadata": {},
   "outputs": [
    {
     "name": "stdout",
     "output_type": "stream",
     "text": [
      "Model accuracy score with k=7 : 0.9462\n"
     ]
    }
   ],
   "source": [
    "# the model with k=7\n",
    "knn7 = KNeighborsClassifier(n_neighbors=7)\n",
    "\n",
    "\n",
    "# fit the model to the training set\n",
    "knn7.fit(Xtrain, ytrain)\n",
    "\n",
    "\n",
    "# predict on the test-set\n",
    "ypred7 = knn7.predict(Xtest)\n",
    "\n",
    "\n",
    "print('Model accuracy score with k=7 : {0:0.4f}'. format(accuracy_score(ytest, ypred7)))"
   ]
  },
  {
   "cell_type": "code",
   "execution_count": 63,
   "id": "deac32af-29c4-43ab-8afb-201e652d457f",
   "metadata": {},
   "outputs": [
    {
     "name": "stdout",
     "output_type": "stream",
     "text": [
      "Model accuracy score with k=8 : 0.9444\n"
     ]
    }
   ],
   "source": [
    "# the model with k=8\n",
    "knn8 = KNeighborsClassifier(n_neighbors=8)\n",
    "\n",
    "\n",
    "# fit the model to the training set\n",
    "knn8.fit(Xtrain, ytrain)\n",
    "\n",
    "\n",
    "# predict on the test-set\n",
    "ypred8 = knn8.predict(Xtest)\n",
    "\n",
    "\n",
    "print('Model accuracy score with k=8 : {0:0.4f}'. format(accuracy_score(ytest, ypred8)))"
   ]
  },
  {
   "cell_type": "code",
   "execution_count": 79,
   "id": "ed06e6e3-bcd8-45af-86a2-5d9a38be529a",
   "metadata": {},
   "outputs": [
    {
     "name": "stdout",
     "output_type": "stream",
     "text": [
      "Confusion matrix\n",
      "\n",
      " [[5192  149]\n",
      " [ 446 4909]]\n",
      "\n",
      "True Positives(TP) =  5192\n",
      "\n",
      "True Negatives(TN) =  4909\n",
      "\n",
      "False Positives(FP) =  149\n",
      "\n",
      "False Negatives(FN) =  446\n"
     ]
    }
   ],
   "source": [
    "# The Confusion Matrix with k=8\n",
    "\n",
    "cm = confusion_matrix(ytest, ypred8)\n",
    "\n",
    "print('Confusion matrix\\n\\n', cm)\n",
    "\n",
    "print('\\nTrue Positives(TP) = ', cm[0,0])\n",
    "\n",
    "print('\\nTrue Negatives(TN) = ', cm[1,1])\n",
    "\n",
    "print('\\nFalse Positives(FP) = ', cm[0,1])\n",
    "\n",
    "print('\\nFalse Negatives(FN) = ', cm[1,0])"
   ]
  },
  {
   "cell_type": "code",
   "execution_count": 80,
   "id": "719cfd7e-57fb-40db-8c02-d7cb1354d9d9",
   "metadata": {},
   "outputs": [
    {
     "data": {
      "text/plain": [
       "<Axes: >"
      ]
     },
     "execution_count": 80,
     "metadata": {},
     "output_type": "execute_result"
    },
    {
     "data": {
      "image/png": "[encoded data removed]",
      "text/plain": [
       "<Figure size 600x400 with 2 Axes>"
      ]
     },
     "metadata": {},
     "output_type": "display_data"
    }
   ],
   "source": [
    "plt.figure(figsize=(6,4))\n",
    "\n",
    "cm_matrix = pd.DataFrame(data=cm, columns=['Actual Positive:1', 'Actual Negative:0'], \n",
    "                                 index=['Predict Positive:1', 'Predict Negative:0'])\n",
    "\n",
    "sns.heatmap(cm_matrix, annot=True, fmt='d', cmap='YlGnBu')"
   ]
  },
  {
   "cell_type": "code",
   "execution_count": 82,
   "id": "c644ad42-e9cc-4fdc-ba1c-9caedb1076ef",
   "metadata": {},
   "outputs": [
    {
     "name": "stdout",
     "output_type": "stream",
     "text": [
      "              precision    recall  f1-score   support\n",
      "\n",
      "           0       0.92      0.97      0.95      5341\n",
      "           1       0.97      0.92      0.94      5355\n",
      "\n",
      "    accuracy                           0.94     10696\n",
      "   macro avg       0.95      0.94      0.94     10696\n",
      "weighted avg       0.95      0.94      0.94     10696\n",
      "\n"
     ]
    }
   ],
   "source": [
    "print(classification_report(ytest, ypred8))"
   ]
  },
  {
   "cell_type": "code",
   "execution_count": null,
   "id": "e170bf9b-eaf8-4763-a0bd-1c047be93b25",
   "metadata": {},
   "outputs": [],
   "source": []
  },
  {
   "cell_type": "code",
   "execution_count": null,
   "id": "1a555c03-befa-4a0e-a67e-e4b5e08661ca",
   "metadata": {},
   "outputs": [],
   "source": []
  }
 ],
 "metadata": {
  "kernelspec": {
   "display_name": "Python 3 (ipykernel)",
   "language": "python",
   "name": "python3"
  },
  "language_info": {
   "codemirror_mode": {
    "name": "ipython",
    "version": 3
   },
   "file_extension": ".py",
   "mimetype": "text/x-python",
   "name": "python",
   "nbconvert_exporter": "python",
   "pygments_lexer": "ipython3",
   "version": "3.11.7"
  }
 },
 "nbformat": 4,
 "nbformat_minor": 5
}
