{
 "cells": [
  {
   "cell_type": "code",
   "execution_count": 4,
   "id": "23ecaf27-bece-4f06-83c9-bda81a2bbec0",
   "metadata": {},
   "outputs": [],
   "source": [
    "import numpy as np\n",
    "import pandas as pd\n",
    "import matplotlib.pyplot as plt\n",
    "import sklearn as sk\n",
    "from sklearn.model_selection import StratifiedKFold\n",
    "from sklearn.model_selection import train_test_split\n",
    "from tqdm import tqdm\n",
    "from sklearn import metrics\n",
    "import xgboost as xgb"
   ]
  },
  {
   "cell_type": "code",
   "execution_count": 5,
   "id": "a3006af1-77d5-4e22-a11d-9255cad11c29",
   "metadata": {},
   "outputs": [],
   "source": [
    "#Import training and test data\n",
    "df = pd.read_csv('build/training_data.csv')\n",
    "lbl = df['label']\n",
    "df = df.drop(columns='label')\n",
    "\n",
    "Xtrain,Xtest, ytrain, ytest = train_test_split(df, lbl, test_size = 0.3, random_state = 555)"
   ]
  },
  {
   "cell_type": "code",
   "execution_count": null,
   "id": "a25ca19d-7947-4e26-bc5c-7d44b8773251",
   "metadata": {},
   "outputs": [
    {
     "name": "stderr",
     "output_type": "stream",
     "text": [
      "\r",
      "  0%|                                                     | 0/5 [00:00<?, ?it/s]"
     ]
    },
    {
     "name": "stdout",
     "output_type": "stream",
     "text": [
      "[0]\tvalidation_0-logloss:0.49654\n",
      "[1]\tvalidation_0-logloss:0.38154\n",
      "[2]\tvalidation_0-logloss:0.30782\n",
      "[3]\tvalidation_0-logloss:0.25640\n",
      "[4]\tvalidation_0-logloss:0.22069\n",
      "[5]\tvalidation_0-logloss:0.19411\n",
      "[6]\tvalidation_0-logloss:0.17329\n",
      "[7]\tvalidation_0-logloss:0.15717\n",
      "[8]\tvalidation_0-logloss:0.14562\n",
      "[9]\tvalidation_0-logloss:0.13742\n",
      "[10]\tvalidation_0-logloss:0.13080\n",
      "[11]\tvalidation_0-logloss:0.12573\n",
      "[12]\tvalidation_0-logloss:0.12036\n",
      "[13]\tvalidation_0-logloss:0.11680\n",
      "[14]\tvalidation_0-logloss:0.11419\n",
      "[15]\tvalidation_0-logloss:0.11095\n",
      "[16]\tvalidation_0-logloss:0.10901\n",
      "[17]\tvalidation_0-logloss:0.10816\n",
      "[18]\tvalidation_0-logloss:0.10667\n",
      "[19]\tvalidation_0-logloss:0.10453\n",
      "[20]\tvalidation_0-logloss:0.10409\n",
      "[21]\tvalidation_0-logloss:0.10362\n",
      "[22]\tvalidation_0-logloss:0.10274\n",
      "[23]\tvalidation_0-logloss:0.10209\n",
      "[24]\tvalidation_0-logloss:0.10222\n",
      "[25]\tvalidation_0-logloss:0.10174\n",
      "[26]\tvalidation_0-logloss:0.10022\n",
      "[27]\tvalidation_0-logloss:0.09965\n",
      "[28]\tvalidation_0-logloss:0.09907\n",
      "[29]\tvalidation_0-logloss:0.09816\n",
      "[30]\tvalidation_0-logloss:0.09839\n",
      "[31]\tvalidation_0-logloss:0.09845\n",
      "[32]\tvalidation_0-logloss:0.09852\n",
      "[33]\tvalidation_0-logloss:0.09785\n",
      "[34]\tvalidation_0-logloss:0.09817\n",
      "[35]\tvalidation_0-logloss:0.09817\n",
      "[36]\tvalidation_0-logloss:0.09795\n",
      "[37]\tvalidation_0-logloss:0.09766\n",
      "[38]\tvalidation_0-logloss:0.09782\n",
      "[39]\tvalidation_0-logloss:0.09747\n",
      "[40]\tvalidation_0-logloss:0.09721\n",
      "[41]\tvalidation_0-logloss:0.09741\n",
      "[42]\tvalidation_0-logloss:0.09732\n",
      "[43]\tvalidation_0-logloss:0.09733\n",
      "[44]\tvalidation_0-logloss:0.09712\n",
      "[45]\tvalidation_0-logloss:0.09709\n",
      "[46]\tvalidation_0-logloss:0.09763\n",
      "[47]\tvalidation_0-logloss:0.09761\n",
      "[48]\tvalidation_0-logloss:0.09755\n",
      "[49]\tvalidation_0-logloss:0.09776\n",
      "[50]\tvalidation_0-logloss:0.09797\n",
      "[51]\tvalidation_0-logloss:0.09818\n",
      "[52]\tvalidation_0-logloss:0.09840\n",
      "[53]\tvalidation_0-logloss:0.09866\n",
      "[54]\tvalidation_0-logloss:0.09889\n",
      "[55]\tvalidation_0-logloss:0.09901\n"
     ]
    },
    {
     "name": "stderr",
     "output_type": "stream",
     "text": [
      "\r",
      " 20%|█████████                                    | 1/5 [00:01<00:06,  1.72s/it]"
     ]
    },
    {
     "name": "stdout",
     "output_type": "stream",
     "text": [
      "[0]\tvalidation_0-logloss:0.49915\n",
      "[1]\tvalidation_0-logloss:0.38534\n",
      "[2]\tvalidation_0-logloss:0.31045\n",
      "[3]\tvalidation_0-logloss:0.26012\n",
      "[4]\tvalidation_0-logloss:0.22254\n",
      "[5]\tvalidation_0-logloss:0.19538\n",
      "[6]\tvalidation_0-logloss:0.17676\n",
      "[7]\tvalidation_0-logloss:0.16077\n",
      "[8]\tvalidation_0-logloss:0.14873\n",
      "[9]\tvalidation_0-logloss:0.13935\n",
      "[10]\tvalidation_0-logloss:0.13294\n",
      "[11]\tvalidation_0-logloss:0.12750\n",
      "[12]\tvalidation_0-logloss:0.12333\n",
      "[13]\tvalidation_0-logloss:0.11953\n",
      "[14]\tvalidation_0-logloss:0.11552\n",
      "[15]\tvalidation_0-logloss:0.11354\n",
      "[16]\tvalidation_0-logloss:0.11098\n",
      "[17]\tvalidation_0-logloss:0.10891\n",
      "[18]\tvalidation_0-logloss:0.10705\n",
      "[19]\tvalidation_0-logloss:0.10611\n",
      "[20]\tvalidation_0-logloss:0.10496\n",
      "[21]\tvalidation_0-logloss:0.10406\n",
      "[22]\tvalidation_0-logloss:0.10363\n",
      "[23]\tvalidation_0-logloss:0.10248\n"
     ]
    }
   ],
   "source": [
    "#Implementing training function with stratifiesKFold\n",
    "def trainModel(X,y,k = 5):\n",
    "    skf = StratifiedKFold(n_splits=k, random_state=555, shuffle=True)\n",
    "    model = []\n",
    "    for _, (train_index, test_index) in zip(tqdm(range(k)), skf.split(X, y)):\n",
    "        bdt = xgb.XGBClassifier(tree_method='hist', random_state=555, objective='binary:logistic'\n",
    "                              , early_stopping_rounds=10, eval_metric=[\"logloss\"])\n",
    "        \n",
    "        bdt.fit(X.to_numpy()[train_index], y.to_numpy()[train_index],\n",
    "                eval_set=[(X.to_numpy()[test_index], y.to_numpy()[test_index])]);\n",
    "        model.append(bdt)\n",
    "    return model\n",
    "\n",
    "model = trainModel(Xtrain,ytrain, 5)"
   ]
  },
  {
   "cell_type": "code",
   "execution_count": 8,
   "id": "2a31db3b-4cf3-4b6c-aab3-52e6707ac352",
   "metadata": {},
   "outputs": [
    {
     "data": {
      "text/plain": [
       "array([2.2522206e-04, 9.9980611e-01, 3.3993616e-03, ..., 9.9649560e-01,\n",
       "       6.3329506e-01, 9.9985284e-01], dtype=float32)"
      ]
     },
     "execution_count": 8,
     "metadata": {},
     "output_type": "execute_result"
    }
   ],
   "source": [
    "#Implementing prediction\n",
    "def predict(model, X):\n",
    "    res = []\n",
    "    for m in model:\n",
    "        res.append(m.predict_proba(X)[:,1])\n",
    "    return np.mean(res, axis = 0)\n",
    "\n",
    "ypred = predict(model, Xtest.to_numpy())\n",
    "ypred"
   ]
  },
  {
   "cell_type": "code",
   "execution_count": 9,
   "id": "92461e21-fc8a-4ddf-9e60-651318c4140c",
   "metadata": {},
   "outputs": [
    {
     "name": "stdout",
     "output_type": "stream",
     "text": [
      "0.9955077181593477\n"
     ]
    },
    {
     "data": {
      "image/png": "[encoded data removed]",
      "text/plain": [
       "<Figure size 640x480 with 1 Axes>"
      ]
     },
     "metadata": {},
     "output_type": "display_data"
    }
   ],
   "source": [
    "#Calc ROC,AUC curve\n",
    "fpr, tpr, thresholds = metrics.roc_curve(ytest, ypred)\n",
    "plt.plot(fpr,tpr);\n",
    "AUC = metrics.roc_auc_score(ytest, ypred)\n",
    "print(AUC)"
   ]
  },
  {
   "cell_type": "code",
   "execution_count": 10,
   "id": "8ff9c400-ac1c-4b3b-ad12-33fc1f04e820",
   "metadata": {},
   "outputs": [],
   "source": [
    "#save ROC,AUC curve to disk\n",
    "file = open('build/BdtRoc.txt', 'w')\n",
    "file.write('#fpr tpr\\n')\n",
    "for f, t in zip(fpr, tpr):\n",
    "    file.write(f'{f} {t}\\n')\n",
    "file.write(f'-1 {AUC}')\n",
    "file.close()"
   ]
  },
  {
   "cell_type": "code",
   "execution_count": 11,
   "id": "2c88973b-85d7-4fe3-841c-c626659789d1",
   "metadata": {},
   "outputs": [
    {
     "data": {
      "text/plain": [
       "[<matplotlib.lines.Line2D at 0x7f80446a6900>]"
      ]
     },
     "execution_count": 11,
     "metadata": {},
     "output_type": "execute_result"
    },
    {
     "data": {
      "image/png": "[encoded data removed]",
      "text/plain": [
       "<Figure size 640x480 with 1 Axes>"
      ]
     },
     "metadata": {},
     "output_type": "display_data"
    }
   ],
   "source": [
    "#Calc Precision Recall curve\n",
    "prec, rec, thresh = metrics.precision_recall_curve(ytest, ypred)\n",
    "\n",
    "plt.plot(prec, rec)"
   ]
  },
  {
   "cell_type": "code",
   "execution_count": 12,
   "id": "f487c845-9ec0-42ac-83c7-a866dc2b2dbb",
   "metadata": {},
   "outputs": [
    {
     "data": {
      "image/png": "[encoded data removed]",
      "text/plain": [
       "<Figure size 640x480 with 1 Axes>"
      ]
     },
     "metadata": {},
     "output_type": "display_data"
    }
   ],
   "source": [
    "#Find Threshold with fbeta score and classify test data\n",
    "def fbeta(p, r, beta = 0.1):\n",
    "    return (1+beta**2)*(p*r)/(beta*p+r)\n",
    "\n",
    "fb = fbeta(prec, rec)[:-1]\n",
    "argTr = np.argmax(fb)\n",
    "plt.plot(thresh, fb)\n",
    "plt.vlines(thresh[argTr], 0, fb[argTr], color = 'orange', label = 'peak')\n",
    "\n",
    "threshold = thresh[argTr]\n",
    "ycls = ypred > threshold\n",
    "ycls = [1 if i else 0 for i in ycls]"
   ]
  },
  {
   "cell_type": "code",
   "execution_count": 13,
   "id": "86ade8a4",
   "metadata": {},
   "outputs": [],
   "source": [
    "#save ROC,AUC and fbeta curve to disk\n",
    "file = open('build/BdtPRC.txt', 'w')\n",
    "file.write('#Precision Recal\\n')\n",
    "for f, t,b in zip(prec[:-1], rec[:-1], fb):\n",
    "    file.write(f'{f} {t} {b}\\n')\n",
    "file.close()"
   ]
  },
  {
   "cell_type": "code",
   "execution_count": 14,
   "id": "a10ac915",
   "metadata": {},
   "outputs": [],
   "source": [
    "#save predictions\n",
    "file = open('build/BdtClassified.txt', 'w')\n",
    "file.write('#label\\n')\n",
    "for f in ycls:\n",
    "    file.write(f'{f}\\n')\n",
    "file.close()"
   ]
  },
  {
   "cell_type": "code",
   "execution_count": null,
   "id": "b746a14a",
   "metadata": {},
   "outputs": [],
   "source": []
  }
 ],
 "metadata": {
  "kernelspec": {
   "display_name": "icecube",
   "language": "python",
   "name": "icecube"
  },
  "language_info": {
   "codemirror_mode": {
    "name": "ipython",
    "version": 3
   },
   "file_extension": ".py",
   "mimetype": "text/x-python",
   "name": "python",
   "nbconvert_exporter": "python",
   "pygments_lexer": "ipython3",
   "version": "3.12.3"
  }
 },
 "nbformat": 4,
 "nbformat_minor": 5
}
