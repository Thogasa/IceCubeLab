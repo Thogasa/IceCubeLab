{
 "cells": [
  {
   "cell_type": "code",
   "execution_count": 45,
   "id": "23ecaf27-bece-4f06-83c9-bda81a2bbec0",
   "metadata": {},
   "outputs": [],
   "source": [
    "import numpy as np\n",
    "import pandas as pd\n",
    "import matplotlib.pyplot as plt\n",
    "import sklearn as sk\n",
    "from sklearn.model_selection import StratifiedKFold\n",
    "from sklearn.model_selection import train_test_split\n",
    "from tqdm import tqdm\n",
    "from sklearn import metrics\n",
    "import xgboost as xgb"
   ]
  },
  {
   "cell_type": "code",
   "execution_count": 46,
   "id": "a3006af1-77d5-4e22-a11d-9255cad11c29",
   "metadata": {},
   "outputs": [],
   "source": [
    "#Import training and test data\n",
    "df = pd.read_csv('build/training_data.csv')\n",
    "lbl = df['label']\n",
    "df = df.drop(columns='label')\n",
    "\n",
    "Xtrain,Xtest, ytrain, ytest = train_test_split(df, lbl, test_size = 0.3, random_state = 555)\n"
   ]
  },
  {
   "cell_type": "code",
   "execution_count": 47,
   "id": "a25ca19d-7947-4e26-bc5c-7d44b8773251",
   "metadata": {},
   "outputs": [
    {
     "name": "stderr",
     "output_type": "stream",
     "text": [
      "\r",
      "  0%|                                                     | 0/5 [00:00<?, ?it/s]"
     ]
    },
    {
     "name": "stdout",
     "output_type": "stream",
     "text": [
      "[0]\tvalidation_0-error:0.07893\n",
      "[1]\tvalidation_0-error:0.05929\n",
      "[2]\tvalidation_0-error:0.05749\n",
      "[3]\tvalidation_0-error:0.05308\n",
      "[4]\tvalidation_0-error:0.05068\n",
      "[5]\tvalidation_0-error:0.04868\n",
      "[6]\tvalidation_0-error:0.04507\n",
      "[7]\tvalidation_0-error:0.04367\n",
      "[8]\tvalidation_0-error:0.04307\n",
      "[9]\tvalidation_0-error:0.04067\n",
      "[10]\tvalidation_0-error:0.04046\n",
      "[11]\tvalidation_0-error:0.04147\n",
      "[12]\tvalidation_0-error:0.04026\n",
      "[13]\tvalidation_0-error:0.03846\n",
      "[14]\tvalidation_0-error:0.03806\n",
      "[15]\tvalidation_0-error:0.03886\n",
      "[16]\tvalidation_0-error:0.03866\n",
      "[17]\tvalidation_0-error:0.03866\n",
      "[18]\tvalidation_0-error:0.03826\n",
      "[19]\tvalidation_0-error:0.03806\n",
      "[20]\tvalidation_0-error:0.03766\n",
      "[21]\tvalidation_0-error:0.03846\n",
      "[22]\tvalidation_0-error:0.03746\n",
      "[23]\tvalidation_0-error:0.03686\n",
      "[24]\tvalidation_0-error:0.03686\n",
      "[25]\tvalidation_0-error:0.03686\n",
      "[26]\tvalidation_0-error:0.03606\n",
      "[27]\tvalidation_0-error:0.03766\n",
      "[28]\tvalidation_0-error:0.03726\n",
      "[29]\tvalidation_0-error:0.03606\n",
      "[30]\tvalidation_0-error:0.03626\n",
      "[31]\tvalidation_0-error:0.03706\n",
      "[32]\tvalidation_0-error:0.03626\n",
      "[33]\tvalidation_0-error:0.03546\n",
      "[34]\tvalidation_0-error:0.03546\n",
      "[35]\tvalidation_0-error:0.03586\n",
      "[36]\tvalidation_0-error:0.03646\n",
      "[37]\tvalidation_0-error:0.03546\n",
      "[38]\tvalidation_0-error:0.03606\n",
      "[39]\tvalidation_0-error:0.03446\n",
      "[40]\tvalidation_0-error:0.03365\n",
      "[41]\tvalidation_0-error:0.03425\n",
      "[42]\tvalidation_0-error:0.03506\n",
      "[43]\tvalidation_0-error:0.03526\n",
      "[44]\tvalidation_0-error:0.03566\n",
      "[45]\tvalidation_0-error:0.03546\n",
      "[46]\tvalidation_0-error:0.03546\n",
      "[47]\tvalidation_0-error:0.03606\n",
      "[48]\tvalidation_0-error:0.03606\n",
      "[49]\tvalidation_0-error:0.03566\n",
      "[50]\tvalidation_0-error:0.03586\n"
     ]
    },
    {
     "name": "stderr",
     "output_type": "stream",
     "text": [
      "\r",
      " 20%|█████████                                    | 1/5 [00:02<00:09,  2.28s/it]"
     ]
    },
    {
     "name": "stdout",
     "output_type": "stream",
     "text": [
      "[0]\tvalidation_0-error:0.08515\n",
      "[1]\tvalidation_0-error:0.07173\n",
      "[2]\tvalidation_0-error:0.06271\n",
      "[3]\tvalidation_0-error:0.05871\n",
      "[4]\tvalidation_0-error:0.05470\n",
      "[5]\tvalidation_0-error:0.05229\n",
      "[6]\tvalidation_0-error:0.05410\n",
      "[7]\tvalidation_0-error:0.05209\n",
      "[8]\tvalidation_0-error:0.05049\n",
      "[9]\tvalidation_0-error:0.04909\n",
      "[10]\tvalidation_0-error:0.04769\n",
      "[11]\tvalidation_0-error:0.04688\n",
      "[12]\tvalidation_0-error:0.04548\n",
      "[13]\tvalidation_0-error:0.04428\n",
      "[14]\tvalidation_0-error:0.04288\n",
      "[15]\tvalidation_0-error:0.04168\n",
      "[16]\tvalidation_0-error:0.04228\n",
      "[17]\tvalidation_0-error:0.04208\n",
      "[18]\tvalidation_0-error:0.04087\n",
      "[19]\tvalidation_0-error:0.04067\n",
      "[20]\tvalidation_0-error:0.04107\n",
      "[21]\tvalidation_0-error:0.04047\n",
      "[22]\tvalidation_0-error:0.03987\n",
      "[23]\tvalidation_0-error:0.04047\n",
      "[24]\tvalidation_0-error:0.04007\n",
      "[25]\tvalidation_0-error:0.04007\n",
      "[26]\tvalidation_0-error:0.03967\n",
      "[27]\tvalidation_0-error:0.03947\n",
      "[28]\tvalidation_0-error:0.03927\n",
      "[29]\tvalidation_0-error:0.03907\n",
      "[30]\tvalidation_0-error:0.03827\n",
      "[31]\tvalidation_0-error:0.03847\n",
      "[32]\tvalidation_0-error:0.03807\n",
      "[33]\tvalidation_0-error:0.03807\n",
      "[34]\tvalidation_0-error:0.03767\n",
      "[35]\tvalidation_0-error:0.03667\n",
      "[36]\tvalidation_0-error:0.03687\n",
      "[37]\tvalidation_0-error:0.03707\n",
      "[38]\tvalidation_0-error:0.03586\n",
      "[39]\tvalidation_0-error:0.03627\n",
      "[40]\tvalidation_0-error:0.03586\n",
      "[41]\tvalidation_0-error:0.03647\n",
      "[42]\tvalidation_0-error:0.03747\n",
      "[43]\tvalidation_0-error:0.03627\n",
      "[44]\tvalidation_0-error:0.03627\n",
      "[45]\tvalidation_0-error:0.03647\n",
      "[46]\tvalidation_0-error:0.03727\n",
      "[47]\tvalidation_0-error:0.03687\n"
     ]
    },
    {
     "name": "stderr",
     "output_type": "stream",
     "text": [
      "\r",
      " 40%|██████████████████                           | 2/5 [00:04<00:06,  2.21s/it]"
     ]
    },
    {
     "name": "stdout",
     "output_type": "stream",
     "text": [
      "[0]\tvalidation_0-error:0.08195\n",
      "[1]\tvalidation_0-error:0.06452\n",
      "[2]\tvalidation_0-error:0.05770\n",
      "[3]\tvalidation_0-error:0.05009\n",
      "[4]\tvalidation_0-error:0.04829\n",
      "[5]\tvalidation_0-error:0.04668\n",
      "[6]\tvalidation_0-error:0.04328\n",
      "[7]\tvalidation_0-error:0.04308\n",
      "[8]\tvalidation_0-error:0.04208\n",
      "[9]\tvalidation_0-error:0.04027\n",
      "[10]\tvalidation_0-error:0.04007\n",
      "[11]\tvalidation_0-error:0.03967\n",
      "[12]\tvalidation_0-error:0.04027\n",
      "[13]\tvalidation_0-error:0.03907\n",
      "[14]\tvalidation_0-error:0.03927\n",
      "[15]\tvalidation_0-error:0.03827\n",
      "[16]\tvalidation_0-error:0.03827\n",
      "[17]\tvalidation_0-error:0.03747\n",
      "[18]\tvalidation_0-error:0.03707\n",
      "[19]\tvalidation_0-error:0.03566\n",
      "[20]\tvalidation_0-error:0.03486\n",
      "[21]\tvalidation_0-error:0.03606\n",
      "[22]\tvalidation_0-error:0.03546\n",
      "[23]\tvalidation_0-error:0.03506\n",
      "[24]\tvalidation_0-error:0.03386\n",
      "[25]\tvalidation_0-error:0.03326\n",
      "[26]\tvalidation_0-error:0.03266\n",
      "[27]\tvalidation_0-error:0.03286\n",
      "[28]\tvalidation_0-error:0.03286\n",
      "[29]\tvalidation_0-error:0.03286\n",
      "[30]\tvalidation_0-error:0.03386\n",
      "[31]\tvalidation_0-error:0.03306\n",
      "[32]\tvalidation_0-error:0.03286\n",
      "[33]\tvalidation_0-error:0.03246\n",
      "[34]\tvalidation_0-error:0.03266\n",
      "[35]\tvalidation_0-error:0.03226\n",
      "[36]\tvalidation_0-error:0.03266\n",
      "[37]\tvalidation_0-error:0.03326\n",
      "[38]\tvalidation_0-error:0.03346\n",
      "[39]\tvalidation_0-error:0.03286\n",
      "[40]\tvalidation_0-error:0.03246\n",
      "[41]\tvalidation_0-error:0.03166\n",
      "[42]\tvalidation_0-error:0.03246\n",
      "[43]\tvalidation_0-error:0.03306\n",
      "[44]\tvalidation_0-error:0.03246\n",
      "[45]\tvalidation_0-error:0.03146\n",
      "[46]\tvalidation_0-error:0.03186\n",
      "[47]\tvalidation_0-error:0.03206\n",
      "[48]\tvalidation_0-error:0.03166\n",
      "[49]\tvalidation_0-error:0.03166\n",
      "[50]\tvalidation_0-error:0.03146\n",
      "[51]\tvalidation_0-error:0.03126\n",
      "[52]\tvalidation_0-error:0.03246\n",
      "[53]\tvalidation_0-error:0.03266\n",
      "[54]\tvalidation_0-error:0.03286\n",
      "[55]\tvalidation_0-error:0.03286\n",
      "[56]\tvalidation_0-error:0.03246\n",
      "[57]\tvalidation_0-error:0.03226\n",
      "[58]\tvalidation_0-error:0.03286\n",
      "[59]\tvalidation_0-error:0.03286\n",
      "[60]\tvalidation_0-error:0.03246\n"
     ]
    },
    {
     "name": "stderr",
     "output_type": "stream",
     "text": [
      "\r",
      " 60%|███████████████████████████                  | 3/5 [00:06<00:04,  2.27s/it]"
     ]
    },
    {
     "name": "stdout",
     "output_type": "stream",
     "text": [
      "[0]\tvalidation_0-error:0.08095\n",
      "[1]\tvalidation_0-error:0.06412\n",
      "[2]\tvalidation_0-error:0.05630\n",
      "[3]\tvalidation_0-error:0.05510\n",
      "[4]\tvalidation_0-error:0.04789\n",
      "[5]\tvalidation_0-error:0.04648\n",
      "[6]\tvalidation_0-error:0.04648\n",
      "[7]\tvalidation_0-error:0.04548\n",
      "[8]\tvalidation_0-error:0.04428\n",
      "[9]\tvalidation_0-error:0.04328\n",
      "[10]\tvalidation_0-error:0.04348\n",
      "[11]\tvalidation_0-error:0.04107\n",
      "[12]\tvalidation_0-error:0.03987\n",
      "[13]\tvalidation_0-error:0.04027\n",
      "[14]\tvalidation_0-error:0.04007\n",
      "[15]\tvalidation_0-error:0.03907\n",
      "[16]\tvalidation_0-error:0.03787\n",
      "[17]\tvalidation_0-error:0.03907\n",
      "[18]\tvalidation_0-error:0.03807\n",
      "[19]\tvalidation_0-error:0.03807\n",
      "[20]\tvalidation_0-error:0.03807\n",
      "[21]\tvalidation_0-error:0.03747\n",
      "[22]\tvalidation_0-error:0.03767\n",
      "[23]\tvalidation_0-error:0.03707\n",
      "[24]\tvalidation_0-error:0.03707\n",
      "[25]\tvalidation_0-error:0.03667\n",
      "[26]\tvalidation_0-error:0.03606\n",
      "[27]\tvalidation_0-error:0.03627\n",
      "[28]\tvalidation_0-error:0.03627\n",
      "[29]\tvalidation_0-error:0.03667\n",
      "[30]\tvalidation_0-error:0.03667\n",
      "[31]\tvalidation_0-error:0.03647\n",
      "[32]\tvalidation_0-error:0.03627\n",
      "[33]\tvalidation_0-error:0.03546\n",
      "[34]\tvalidation_0-error:0.03647\n",
      "[35]\tvalidation_0-error:0.03606\n",
      "[36]\tvalidation_0-error:0.03627\n",
      "[37]\tvalidation_0-error:0.03586\n",
      "[38]\tvalidation_0-error:0.03566\n",
      "[39]\tvalidation_0-error:0.03566\n",
      "[40]\tvalidation_0-error:0.03526\n",
      "[41]\tvalidation_0-error:0.03566\n",
      "[42]\tvalidation_0-error:0.03566\n",
      "[43]\tvalidation_0-error:0.03546\n",
      "[44]\tvalidation_0-error:0.03486\n",
      "[45]\tvalidation_0-error:0.03526\n",
      "[46]\tvalidation_0-error:0.03506\n",
      "[47]\tvalidation_0-error:0.03466\n",
      "[48]\tvalidation_0-error:0.03506\n",
      "[49]\tvalidation_0-error:0.03466\n",
      "[50]\tvalidation_0-error:0.03586\n",
      "[51]\tvalidation_0-error:0.03526\n",
      "[52]\tvalidation_0-error:0.03506\n",
      "[53]\tvalidation_0-error:0.03506\n",
      "[54]\tvalidation_0-error:0.03446\n",
      "[55]\tvalidation_0-error:0.03386\n",
      "[56]\tvalidation_0-error:0.03386\n",
      "[57]\tvalidation_0-error:0.03406\n",
      "[58]\tvalidation_0-error:0.03466\n",
      "[59]\tvalidation_0-error:0.03466\n",
      "[60]\tvalidation_0-error:0.03426\n",
      "[61]\tvalidation_0-error:0.03426\n",
      "[62]\tvalidation_0-error:0.03446\n",
      "[63]\tvalidation_0-error:0.03426\n",
      "[64]\tvalidation_0-error:0.03406\n",
      "[65]\tvalidation_0-error:0.03446\n"
     ]
    },
    {
     "name": "stderr",
     "output_type": "stream",
     "text": [
      "\r",
      " 80%|████████████████████████████████████         | 4/5 [00:09<00:02,  2.52s/it]"
     ]
    },
    {
     "name": "stdout",
     "output_type": "stream",
     "text": [
      "[0]\tvalidation_0-error:0.08696\n",
      "[1]\tvalidation_0-error:0.06652\n",
      "[2]\tvalidation_0-error:0.05851\n",
      "[3]\tvalidation_0-error:0.05650\n",
      "[4]\tvalidation_0-error:0.05310\n",
      "[5]\tvalidation_0-error:0.04929\n",
      "[6]\tvalidation_0-error:0.04869\n",
      "[7]\tvalidation_0-error:0.04749\n",
      "[8]\tvalidation_0-error:0.04668\n",
      "[9]\tvalidation_0-error:0.04508\n",
      "[10]\tvalidation_0-error:0.04468\n",
      "[11]\tvalidation_0-error:0.04328\n",
      "[12]\tvalidation_0-error:0.03947\n",
      "[13]\tvalidation_0-error:0.03967\n",
      "[14]\tvalidation_0-error:0.03807\n",
      "[15]\tvalidation_0-error:0.03707\n",
      "[16]\tvalidation_0-error:0.03546\n",
      "[17]\tvalidation_0-error:0.03446\n",
      "[18]\tvalidation_0-error:0.03566\n",
      "[19]\tvalidation_0-error:0.03606\n",
      "[20]\tvalidation_0-error:0.03546\n",
      "[21]\tvalidation_0-error:0.03386\n",
      "[22]\tvalidation_0-error:0.03426\n",
      "[23]\tvalidation_0-error:0.03366\n",
      "[24]\tvalidation_0-error:0.03426\n",
      "[25]\tvalidation_0-error:0.03406\n",
      "[26]\tvalidation_0-error:0.03406\n",
      "[27]\tvalidation_0-error:0.03386\n",
      "[28]\tvalidation_0-error:0.03366\n",
      "[29]\tvalidation_0-error:0.03326\n",
      "[30]\tvalidation_0-error:0.03306\n",
      "[31]\tvalidation_0-error:0.03346\n",
      "[32]\tvalidation_0-error:0.03266\n",
      "[33]\tvalidation_0-error:0.03246\n",
      "[34]\tvalidation_0-error:0.03226\n",
      "[35]\tvalidation_0-error:0.03246\n",
      "[36]\tvalidation_0-error:0.03206\n",
      "[37]\tvalidation_0-error:0.03246\n",
      "[38]\tvalidation_0-error:0.03266\n",
      "[39]\tvalidation_0-error:0.03246\n",
      "[40]\tvalidation_0-error:0.03206\n",
      "[41]\tvalidation_0-error:0.03226\n",
      "[42]\tvalidation_0-error:0.03206\n",
      "[43]\tvalidation_0-error:0.03166\n",
      "[44]\tvalidation_0-error:0.03166\n",
      "[45]\tvalidation_0-error:0.03146\n",
      "[46]\tvalidation_0-error:0.03146\n",
      "[47]\tvalidation_0-error:0.03126\n",
      "[48]\tvalidation_0-error:0.03106\n",
      "[49]\tvalidation_0-error:0.03066\n",
      "[50]\tvalidation_0-error:0.03045\n",
      "[51]\tvalidation_0-error:0.03005\n",
      "[52]\tvalidation_0-error:0.03066\n",
      "[53]\tvalidation_0-error:0.03066\n",
      "[54]\tvalidation_0-error:0.03086\n",
      "[55]\tvalidation_0-error:0.03106\n",
      "[56]\tvalidation_0-error:0.03066\n",
      "[57]\tvalidation_0-error:0.03005\n",
      "[58]\tvalidation_0-error:0.02885\n",
      "[59]\tvalidation_0-error:0.02965\n",
      "[60]\tvalidation_0-error:0.02905\n",
      "[61]\tvalidation_0-error:0.02885\n",
      "[62]\tvalidation_0-error:0.02905\n",
      "[63]\tvalidation_0-error:0.02965\n",
      "[64]\tvalidation_0-error:0.02985\n",
      "[65]\tvalidation_0-error:0.03005\n",
      "[66]\tvalidation_0-error:0.03005\n",
      "[67]\tvalidation_0-error:0.02985\n",
      "[68]\tvalidation_0-error:0.03066\n"
     ]
    },
    {
     "name": "stderr",
     "output_type": "stream",
     "text": [
      "100%|█████████████████████████████████████████████| 5/5 [00:10<00:00,  2.16s/it]\n"
     ]
    }
   ],
   "source": [
    "#Implementing training function with stratifiesKFold\n",
    "def trainModel(X,y,k = 5):\n",
    "    skf = StratifiedKFold(n_splits=k, random_state=555, shuffle=True)\n",
    "    model = []\n",
    "    for _, (train_index, test_index) in zip(tqdm(range(k)), skf.split(X, y)):\n",
    "          #print(X.to_numpy())\n",
    "        bdt = xgb.XGBClassifier(tree_method='hist', random_state=555\n",
    "                              , early_stopping_rounds=10, eval_metric=[\"error\"]) # create BDT object\n",
    "        \n",
    "        bdt.fit(X.to_numpy()[train_index], y.to_numpy()[train_index],\n",
    "                eval_set=[(X.to_numpy()[test_index], y.to_numpy()[test_index])]);\n",
    "        model.append(bdt)\n",
    "    return model\n",
    "\n",
    "model = trainModel(Xtrain,ytrain, 5)"
   ]
  },
  {
   "cell_type": "code",
   "execution_count": 48,
   "id": "2a31db3b-4cf3-4b6c-aab3-52e6707ac352",
   "metadata": {},
   "outputs": [
    {
     "data": {
      "text/plain": [
       "array([1.7113386e-04, 9.9987543e-01, 3.0840333e-03, ..., 9.9679214e-01,\n",
       "       6.7532402e-01, 9.9990004e-01], dtype=float32)"
      ]
     },
     "execution_count": 48,
     "metadata": {},
     "output_type": "execute_result"
    }
   ],
   "source": [
    "#Implementing prediction\n",
    "def predict(model, X):\n",
    "    res = []\n",
    "    for m in model:\n",
    "        res.append(m.predict_proba(X)[:,1])\n",
    "    return np.mean(res, axis = 0)\n",
    "\n",
    "ypred = predict(model, Xtest.to_numpy())\n",
    "ypred"
   ]
  },
  {
   "cell_type": "code",
   "execution_count": 49,
   "id": "92461e21-fc8a-4ddf-9e60-651318c4140c",
   "metadata": {},
   "outputs": [
    {
     "name": "stdout",
     "output_type": "stream",
     "text": [
      "0.9954933130963176\n"
     ]
    },
    {
     "data": {
      "image/png": "[encoded data removed]",
      "text/plain": [
       "<Figure size 640x480 with 1 Axes>"
      ]
     },
     "metadata": {},
     "output_type": "display_data"
    }
   ],
   "source": [
    "#Calc ROC,AUC curve\n",
    "fpr, tpr, thresholds = metrics.roc_curve(ytest, ypred)\n",
    "plt.plot(fpr,tpr);\n",
    "AUC = metrics.roc_auc_score(ytest, ypred)\n",
    "print(AUC)"
   ]
  },
  {
   "cell_type": "code",
   "execution_count": 50,
   "id": "8ff9c400-ac1c-4b3b-ad12-33fc1f04e820",
   "metadata": {},
   "outputs": [],
   "source": [
    "#save ROC,AUC curve to disk\n",
    "file = open('build/BdtRoc.txt', 'w')\n",
    "file.write('#fpr tpr\\n')\n",
    "for f, t in zip(fpr, tpr):\n",
    "    file.write(f'{f} {t}\\n')\n",
    "file.write(f'-1 {AUC}')\n",
    "file.close()"
   ]
  },
  {
   "cell_type": "code",
   "execution_count": 51,
   "id": "2c88973b-85d7-4fe3-841c-c626659789d1",
   "metadata": {},
   "outputs": [
    {
     "data": {
      "text/plain": [
       "[<matplotlib.lines.Line2D at 0x7fcb1f249850>]"
      ]
     },
     "execution_count": 51,
     "metadata": {},
     "output_type": "execute_result"
    },
    {
     "data": {
      "image/png": "[encoded data removed]",
      "text/plain": [
       "<Figure size 640x480 with 1 Axes>"
      ]
     },
     "metadata": {},
     "output_type": "display_data"
    }
   ],
   "source": [
    "#Calc Precision Recall curve\n",
    "prec, rec, thresh = metrics.precision_recall_curve(ytest, ypred)\n",
    "\n",
    "plt.plot(prec, rec)"
   ]
  },
  {
   "cell_type": "code",
   "execution_count": 52,
   "id": "f487c845-9ec0-42ac-83c7-a866dc2b2dbb",
   "metadata": {},
   "outputs": [
    {
     "data": {
      "image/png": "[encoded data removed]",
      "text/plain": [
       "<Figure size 640x480 with 1 Axes>"
      ]
     },
     "metadata": {},
     "output_type": "display_data"
    }
   ],
   "source": [
    "#Find Threshold with fbeta score and classify test data\n",
    "def fbeta(p, r, beta = 0.1):\n",
    "    return (1+beta**2)*(p*r)/(beta*p+r)\n",
    "\n",
    "fb = fbeta(prec, rec)[:-1]\n",
    "argTr = np.argmax(fb)\n",
    "plt.plot(thresh, fb)\n",
    "plt.vlines(tresh[argTr], 0, fb[argTr], color = 'orange', label = 'peak')\n",
    "\n",
    "threshold = tresh[argTr]\n",
    "ycls = ypred > threshold\n",
    "ycls = [1 if i else 0 for i in ycls]"
   ]
  },
  {
   "cell_type": "code",
   "execution_count": 53,
   "id": "11406e48",
   "metadata": {},
   "outputs": [],
   "source": [
    "#save ROC,AUC and fbeta curve to disk\n",
    "file = open('build/BdtPRC.txt', 'w')\n",
    "file.write('#Precision Recal\\n')\n",
    "for f, t,b in zip(prec[:-1], rec[:-1], fb):\n",
    "    file.write(f'{f} {t} {b}\\n')\n",
    "file.close()"
   ]
  },
  {
   "cell_type": "code",
   "execution_count": 54,
   "id": "9ed1d0f7",
   "metadata": {},
   "outputs": [],
   "source": [
    "#save predictions\n",
    "file = open('build/BdtClassified.txt', 'w')\n",
    "file.write('#label\\n')\n",
    "for f in ycls:\n",
    "    file.write(f'{f}\\n')\n",
    "file.close()"
   ]
  }
 ],
 "metadata": {
  "kernelspec": {
   "display_name": "icecube",
   "language": "python",
   "name": "icecube"
  },
  "language_info": {
   "codemirror_mode": {
    "name": "ipython",
    "version": 3
   },
   "file_extension": ".py",
   "mimetype": "text/x-python",
   "name": "python",
   "nbconvert_exporter": "python",
   "pygments_lexer": "ipython3",
   "version": "3.12.3"
  }
 },
 "nbformat": 4,
 "nbformat_minor": 5
}
